{
  "nbformat": 4,
  "nbformat_minor": 0,
  "metadata": {
    "colab": {
      "provenance": [],
      "collapsed_sections": [
        "nhHXfDdqVeaN"
      ],
      "include_colab_link": true
    },
    "kernelspec": {
      "name": "python3",
      "display_name": "Python 3"
    },
    "accelerator": "GPU"
  },
  "cells": [
    {
      "cell_type": "markdown",
      "metadata": {
        "id": "view-in-github",
        "colab_type": "text"
      },
      "source": [
        "<a href=\"https://colab.research.google.com/github/daddyboy77/A.I-testing/blob/master/cartoonize_b.ipynb\" target=\"_parent\"><img src=\"https://colab.research.google.com/assets/colab-badge.svg\" alt=\"Open In Colab\"/></a>"
      ]
    },
    {
      "cell_type": "code",
      "metadata": {
        "id": "KVK0kiqcUEh8",
        "colab": {
          "base_uri": "https://localhost:8080/"
        },
        "outputId": "f74aa7df-9e90-4d4b-923f-d7cd8af2fcbe",
        "cellView": "form"
      },
      "source": [
        "#@title Setup\n",
        "!pip install imageio==2.4.1\n",
        "import os\n",
        "repo = \"CartoonGan-tensorflow\"\n",
        "!git clone https://github.com/mnicnc404/CartoonGan-tensorflow.git\n",
        "os.chdir(os.path.join(repo))\n",
        "\n",
        "from IPython.display import clear_output, display, Image\n",
        "!pip3 install tensorflow-gpu==2.2.0-alpha0\n",
        "!git clone https://www.github.com/keras-team/keras-contrib.git \\\n",
        "    && cd keras-contrib \\\n",
        "    && python convert_to_tf_keras.py \\\n",
        "    && USE_TF_KERAS=1 python setup.py install\n",
        "\n",
        "!pip3 install matlab\n",
        "!pip3 install moviepy\n",
        "clear_output()\n",
        "import tensorflow as tf\n",
        "print(tf.__version__)"
      ],
      "execution_count": null,
      "outputs": [
        {
          "output_type": "stream",
          "name": "stdout",
          "text": [
            "2.8.2\n"
          ]
        }
      ]
    },
    {
      "cell_type": "code",
      "metadata": {
        "id": "7erw9Jt-n4wm",
        "cellView": "form"
      },
      "source": [
        "#@title Link drive\n",
        "from google.colab import drive\n",
        "drive.mount('/content/drive')\n",
        "clear_output()"
      ],
      "execution_count": null,
      "outputs": []
    },
    {
      "cell_type": "code",
      "source": [
        "!pip install imageio==2.4.1"
      ],
      "metadata": {
        "colab": {
          "base_uri": "https://localhost:8080/",
          "height": 418
        },
        "id": "jzZ9FUorZ4lZ",
        "outputId": "521ffc4b-fca3-41fa-cc9b-81a142cf5b78"
      },
      "execution_count": null,
      "outputs": [
        {
          "output_type": "stream",
          "name": "stdout",
          "text": [
            "Looking in indexes: https://pypi.org/simple, https://us-python.pkg.dev/colab-wheels/public/simple/\n",
            "Collecting imageio==2.4.1\n",
            "  Downloading imageio-2.4.1.tar.gz (3.3 MB)\n",
            "\u001b[K     |████████████████████████████████| 3.3 MB 7.7 MB/s \n",
            "\u001b[?25hRequirement already satisfied: numpy in /usr/local/lib/python3.7/dist-packages (from imageio==2.4.1) (1.21.6)\n",
            "Requirement already satisfied: pillow in /usr/local/lib/python3.7/dist-packages (from imageio==2.4.1) (7.1.2)\n",
            "Building wheels for collected packages: imageio\n",
            "  Building wheel for imageio (setup.py) ... \u001b[?25l\u001b[?25hdone\n",
            "  Created wheel for imageio: filename=imageio-2.4.1-py3-none-any.whl size=3303885 sha256=e062448e68ac87f5cdf4e6704809b66fd303137ef3d50429cb66fe4ca490ee40\n",
            "  Stored in directory: /root/.cache/pip/wheels/46/20/07/7bb9c8c44e6ec2efa60fd0e6280094f53f65f41767ef69a5ee\n",
            "Successfully built imageio\n",
            "Installing collected packages: imageio\n",
            "  Attempting uninstall: imageio\n",
            "    Found existing installation: imageio 2.9.0\n",
            "    Uninstalling imageio-2.9.0:\n",
            "      Successfully uninstalled imageio-2.9.0\n",
            "Successfully installed imageio-2.4.1\n"
          ]
        },
        {
          "output_type": "display_data",
          "data": {
            "application/vnd.colab-display-data+json": {
              "pip_warning": {
                "packages": [
                  "imageio"
                ]
              }
            }
          },
          "metadata": {}
        }
      ]
    },
    {
      "cell_type": "code",
      "metadata": {
        "id": "miXHc1MkA-7P",
        "colab": {
          "base_uri": "https://localhost:8080/"
        },
        "outputId": "68edbc05-1181-4bc3-dcaa-c6813e82c4e4"
      },
      "source": [
        "#@title Process video\n",
        "vdirectory = \"/content/drive/MyDrive/Real/Alt.mp4\" #@param {type: \"string\"}\n",
        "vidname = vdirectory.split(\"/\")[-1]\n",
        "name = '.'.join(vidname.split(\".\")[:-1])\n",
        "print(\"name: \" + name)\n",
        "print(\"vidname: \" + vidname)\n",
        "print(\"Test:\" + \"/content/\" + vidname + \"/\")\n",
        " \n",
        "#@title Analyze\n",
        "import cv2\n",
        "def count_frames(path, override=False):\n",
        "    # grab a pointer to the video file and initialize the total\n",
        "    # number of frames read\n",
        "    video = cv2.VideoCapture(path)\n",
        "    total = 0\n",
        "    # if the override flag is passed in, revert to the manual\n",
        "    # method of counting frames\n",
        "    if override:\n",
        "        total = count_frames_manual(video)\n",
        "    # otherwise, let's try the fast way first\n",
        "    else:\n",
        "        # lets try to determine the number of frames in a video\n",
        "        # via video properties; this method can be very buggy\n",
        "        # and might throw an error based on your OpenCV version\n",
        "        # or may fail entirely based on your which video codecs\n",
        "        # you have installed\n",
        "        try:\n",
        "            # check if we are using OpenCV 3\n",
        "            # otherwise, we are using OpenCV 2.4\n",
        "            total = int(video.get(cv2.cv.CV_CAP_PROP_FRAME_COUNT))\n",
        "        # uh-oh, we got an error -- revert to counting manually\n",
        "        except:\n",
        "            total = count_frames_manual(video)\n",
        "    # release the video file pointer\n",
        "    video.release()\n",
        "    # return the total number of frames in the video\n",
        "    return total\n",
        "def count_frames_manual(video):\n",
        "    # initialize the total number of frames read\n",
        "    total = 0\n",
        "    # loop over the frames of the video\n",
        "    while True:\n",
        "        # grab the current frame\n",
        "        (grabbed, frame) = video.read()\n",
        "     \n",
        "        # check to see if we have reached the end of the\n",
        "        # video\n",
        "        if not grabbed:\n",
        "            break\n",
        "        # increment the total number of frames read\n",
        "        total += 1\n",
        "    # return the total number of frames in the video file\n",
        "    return total\n",
        "if __name__ == '__main__' :\n",
        "    video = cv2.VideoCapture(vdirectory);\n",
        "    # Find OpenCV version\n",
        "    (major_ver, minor_ver, subminor_ver) = (cv2.__version__).split('.')\n",
        "    if int(major_ver)  < 3 :\n",
        "        fps = video.get(cv2.cv.CV_CAP_PROP_FPS)\n",
        "        print (\"Frames per second using video.get(cv2.cv.CV_CAP_PROP_FPS): {0}\".format(fps))\n",
        "    else :\n",
        "        fps = video.get(cv2.CAP_PROP_FPS)\n",
        "        print (\"Frames per second using video.get(cv2.CAP_PROP_FPS) : {0}\".format(fps))\n",
        "    video.release()\n",
        "print(fps)\n",
        "print(count_frames(vdirectory))\n",
        "\n",
        "\n",
        "from concurrent.futures import ProcessPoolExecutor, as_completed\n",
        "import cv2\n",
        "import multiprocessing\n",
        "import os\n",
        "import sys\n",
        " \n",
        " \n",
        "def print_progress(iteration, total, prefix='', suffix='', decimals=3, bar_length=100):\n",
        "    \"\"\"\n",
        "    Call in a loop to create standard out progress bar\n",
        "    :param iteration: current iteration\n",
        "    :param total: total iterations\n",
        "    :param prefix: prefix string\n",
        "    :param suffix: suffix string\n",
        "    :param decimals: positive number of decimals in percent complete\n",
        "    :param bar_length: character length of bar\n",
        "    :return: None\n",
        "    \"\"\"\n",
        " \n",
        "    format_str = \"{0:.\" + str(decimals) + \"f}\"  # format the % done number string\n",
        "    percents = format_str.format(100 * (iteration / float(total)))  # calculate the % done\n",
        "    filled_length = int(round(bar_length * iteration / float(total)))  # calculate the filled bar length\n",
        "    bar = '#' * filled_length + '-' * (bar_length - filled_length)  # generate the bar string\n",
        "    sys.stdout.write('\\r%s |%s| %s%s %s' % (prefix, bar, percents, '%', suffix)),  # write out the bar\n",
        "    sys.stdout.flush()  # flush to stdout\n",
        " \n",
        " \n",
        "def extract_frames(video_path, frames_dir, overwrite=False, start=-1, end=-1, every=1):\n",
        "    \"\"\"\n",
        "    Extract frames from a video using OpenCVs VideoCapture\n",
        "    :param video_path: path of the video\n",
        "    :param frames_dir: the directory to save the frames\n",
        "    :param overwrite: to overwrite frames that already exist?\n",
        "    :param start: start frame\n",
        "    :param end: end frame\n",
        "    :param every: frame spacing\n",
        "    :return: count of images saved\n",
        "    \"\"\"\n",
        " \n",
        "    video_path = os.path.normpath(video_path)  # make the paths OS (Windows) compatible\n",
        "    frames_dir = os.path.normpath(frames_dir)  # make the paths OS (Windows) compatible\n",
        " \n",
        "    video_dir, video_filename = os.path.split(video_path)  # get the video path and filename from the path\n",
        " \n",
        "    assert os.path.exists(video_path)  # assert the video file exists\n",
        " \n",
        "    capture = cv2.VideoCapture(video_path)  # open the video using OpenCV\n",
        " \n",
        "    if start < 0:  # if start isn't specified lets assume 0\n",
        "        start = 0\n",
        "    if end < 0:  # if end isn't specified assume the end of the video\n",
        "        end = int(capture.get(cv2.CAP_PROP_FRAME_COUNT))\n",
        " \n",
        "    capture.set(1, start)  # set the starting frame of the capture\n",
        "    frame = start  # keep track of which frame we are up to, starting from start\n",
        "    while_safety = 0  # a safety counter to ensure we don't enter an infinite while loop (hopefully we won't need it)\n",
        "    saved_count = 0  # a count of how many frames we have saved\n",
        " \n",
        "    while frame < end:  # lets loop through the frames until the end\n",
        " \n",
        "        _, image = capture.read()  # read an image from the capture\n",
        " \n",
        "        if while_safety > 500:  # break the while if our safety maxs out at 500\n",
        "            break\n",
        " \n",
        "        # sometimes OpenCV reads None's during a video, in which case we want to just skip\n",
        "        if image is None:  # if we get a bad return flag or the image we read is None, lets not save\n",
        "            while_safety += 1  # add 1 to our while safety, since we skip before incrementing our frame variable\n",
        "            continue  # skip\n",
        " \n",
        "        if frame % every == 0:  # if this is a frame we want to write out based on the 'every' argument\n",
        "            while_safety = 0  # reset the safety count\n",
        "            save_path = os.path.join(frames_dir, video_filename, \"{:010d}.jpg\".format(frame))  # create the save path\n",
        "            if not os.path.exists(save_path) or overwrite:  # if it doesn't exist or we want to overwrite anyways\n",
        "                cv2.imwrite(save_path, image)  # save the extracted image\n",
        "                saved_count += 1  # increment our counter by one\n",
        " \n",
        "        frame += 1  # increment our frame count\n",
        " \n",
        "    capture.release()  # after the while has finished close the capture\n",
        " \n",
        "    return saved_count  # and return the count of the images we saved\n",
        " \n",
        " \n",
        "def video_to_frames(video_path, frames_dir, overwrite=False, every=1, chunk_size=1000):\n",
        "    \"\"\"\n",
        "    Extracts the frames from a video using multiprocessing\n",
        "    :param video_path: path to the video\n",
        "    :param frames_dir: directory to save the frames\n",
        "    :param overwrite: overwrite frames if they exist?\n",
        "    :param every: extract every this many frames\n",
        "    :param chunk_size: how many frames to split into chunks (one chunk per cpu core process)\n",
        "    :return: path to the directory where the frames were saved, or None if fails\n",
        "    \"\"\"\n",
        " \n",
        "    video_path = os.path.normpath(video_path)  # make the paths OS (Windows) compatible\n",
        "    frames_dir = os.path.normpath(frames_dir)  # make the paths OS (Windows) compatible\n",
        " \n",
        "    video_dir, video_filename = os.path.split(video_path)  # get the video path and filename from the path\n",
        " \n",
        "    # make directory to save frames, its a sub dir in the frames_dir with the video name\n",
        "    os.makedirs(os.path.join(frames_dir, video_filename), exist_ok=True)\n",
        " \n",
        "    capture = cv2.VideoCapture(video_path)  # load the video\n",
        "    total = int(capture.get(cv2.CAP_PROP_FRAME_COUNT))  # get its total frame count\n",
        "    capture.release()  # release the capture straight away\n",
        " \n",
        "    if total < 1:  # if video has no frames, might be and opencv error\n",
        "        print(\"Video has no frames. Check your OpenCV + ffmpeg installation, can't read videos!!!\\n\"\n",
        "              \"You may need to install OpenCV by source not pip\")\n",
        "        return None  # return None\n",
        " \n",
        "    frame_chunks = [[i, i+chunk_size] for i in range(0, total, chunk_size)]  # split the frames into chunk lists\n",
        "    frame_chunks[-1][-1] = min(frame_chunks[-1][-1], total-1)  # make sure last chunk has correct end frame\n",
        " \n",
        "    prefix_str = \"Extracting frames from {}\".format(video_filename)  # a prefix string to be printed in progress bar\n",
        " \n",
        "    # execute across multiple cpu cores to speed up processing, get the count automatically\n",
        "    with ProcessPoolExecutor(max_workers=multiprocessing.cpu_count()) as executor:\n",
        " \n",
        "        futures = [executor.submit(extract_frames, video_path, frames_dir, overwrite, f[0], f[1], every)\n",
        "                   for f in frame_chunks]  # submit the processes: extract_frames(...)\n",
        " \n",
        "        for i, f in enumerate(as_completed(futures)):  # as each process completes\n",
        "            print_progress(i, len(frame_chunks)-1, prefix=prefix_str, suffix='Complete')  # print it's progress\n",
        " \n",
        "    return os.path.join(frames_dir, video_filename)  # when done return the directory containing the frames\n",
        " \n",
        "Chunk_Slider = 25 #@param {type:\"slider\", min:0, max:1000, step:25}\n",
        "Comparison = False #@param {type:\"boolean\"}\n",
        "if __name__ == '__main__':\n",
        "    # test it\n",
        "    video_to_frames(video_path=vdirectory, frames_dir=\"/content/\", overwrite=False, every=1, chunk_size=Chunk_Slider)\n",
        "from moviepy.editor import *\n",
        "if not os.path.exists(\"/content/sound\"):\n",
        " os.mkdir(\"/content/sound\")\n",
        "video = VideoFileClip(vdirectory) \n",
        "audio = video.audio \n",
        "audioname = \"/content/sound/\" + name + \".mp3\"\n",
        "audio.write_audiofile(audioname)\n",
        "#lear_output()"
      ],
      "execution_count": null,
      "outputs": [
        {
          "output_type": "stream",
          "name": "stdout",
          "text": [
            "name: Alt\n",
            "vidname: Alt.mp4\n",
            "Test:/content/Alt.mp4/\n",
            "Frames per second using video.get(cv2.CAP_PROP_FPS) : 29.615574458810634\n",
            "29.615574458810634\n",
            "154\n",
            "Extracting frames from Alt.mp4 |####################################################################################################| 100.000% Complete[MoviePy] Writing audio in /content/sound/Alt.mp3\n"
          ]
        },
        {
          "output_type": "stream",
          "name": "stderr",
          "text": [
            "100%|██████████| 115/115 [00:00<00:00, 1179.85it/s]"
          ]
        },
        {
          "output_type": "stream",
          "name": "stdout",
          "text": [
            "[MoviePy] Done.\n"
          ]
        },
        {
          "output_type": "stream",
          "name": "stderr",
          "text": [
            "\n"
          ]
        }
      ]
    },
    {
      "cell_type": "code",
      "source": [
        "!zip -r /content/paprikalt.zip \"/content/paprika\""
      ],
      "metadata": {
        "colab": {
          "base_uri": "https://localhost:8080/"
        },
        "id": "bIFFRR4ZarFo",
        "outputId": "699d221e-e8a8-40be-8ae2-6eae272ade4b"
      },
      "execution_count": null,
      "outputs": [
        {
          "output_type": "stream",
          "name": "stdout",
          "text": [
            "  adding: content/paprika/ (stored 0%)\n",
            "  adding: content/paprika/0000000052.jpg (deflated 2%)\n",
            "  adding: content/paprika/0000000087.jpg (deflated 2%)\n",
            "  adding: content/paprika/0000000080.jpg (deflated 2%)\n",
            "  adding: content/paprika/0000000134.jpg (deflated 2%)\n",
            "  adding: content/paprika/0000000094.jpg (deflated 2%)\n",
            "  adding: content/paprika/0000000152.jpg (deflated 2%)\n",
            "  adding: content/paprika/0000000120.jpg (deflated 2%)\n",
            "  adding: content/paprika/0000000007.jpg (deflated 2%)\n",
            "  adding: content/paprika/0000000110.jpg (deflated 2%)\n",
            "  adding: content/paprika/0000000069.jpg (deflated 2%)\n",
            "  adding: content/paprika/0000000150.jpg (deflated 2%)\n",
            "  adding: content/paprika/0000000001.jpg (deflated 2%)\n",
            "  adding: content/paprika/0000000088.jpg (deflated 2%)\n",
            "  adding: content/paprika/0000000115.jpg (deflated 2%)\n",
            "  adding: content/paprika/0000000084.jpg (deflated 2%)\n",
            "  adding: content/paprika/0000000048.jpg (deflated 2%)\n",
            "  adding: content/paprika/0000000143.jpg (deflated 2%)\n",
            "  adding: content/paprika/0000000128.jpg (deflated 2%)\n",
            "  adding: content/paprika/0000000050.jpg (deflated 2%)\n",
            "  adding: content/paprika/0000000064.jpg (deflated 2%)\n",
            "  adding: content/paprika/0000000026.jpg (deflated 2%)\n",
            "  adding: content/paprika/0000000045.jpg (deflated 2%)\n",
            "  adding: content/paprika/0000000129.jpg (deflated 2%)\n",
            "  adding: content/paprika/0000000131.jpg (deflated 2%)\n",
            "  adding: content/paprika/0000000025.jpg (deflated 2%)\n",
            "  adding: content/paprika/0000000119.jpg (deflated 2%)\n",
            "  adding: content/paprika/0000000003.jpg (deflated 2%)\n",
            "  adding: content/paprika/0000000105.jpg (deflated 2%)\n",
            "  adding: content/paprika/0000000078.jpg (deflated 2%)\n",
            "  adding: content/paprika/0000000044.jpg (deflated 2%)\n",
            "  adding: content/paprika/0000000049.jpg (deflated 2%)\n",
            "  adding: content/paprika/0000000062.jpg (deflated 2%)\n",
            "  adding: content/paprika/0000000028.jpg (deflated 2%)\n",
            "  adding: content/paprika/0000000074.jpg (deflated 2%)\n",
            "  adding: content/paprika/0000000140.jpg (deflated 2%)\n",
            "  adding: content/paprika/0000000056.jpg (deflated 2%)\n",
            "  adding: content/paprika/0000000058.jpg (deflated 2%)\n",
            "  adding: content/paprika/0000000076.jpg (deflated 2%)\n",
            "  adding: content/paprika/0000000055.jpg (deflated 2%)\n",
            "  adding: content/paprika/0000000099.jpg (deflated 2%)\n",
            "  adding: content/paprika/0000000032.jpg (deflated 2%)\n",
            "  adding: content/paprika/0000000054.jpg (deflated 2%)\n",
            "  adding: content/paprika/0000000127.jpg (deflated 2%)\n",
            "  adding: content/paprika/0000000079.jpg (deflated 2%)\n",
            "  adding: content/paprika/0000000039.jpg (deflated 2%)\n",
            "  adding: content/paprika/0000000101.jpg (deflated 2%)\n",
            "  adding: content/paprika/0000000018.jpg (deflated 2%)\n",
            "  adding: content/paprika/0000000137.jpg (deflated 2%)\n",
            "  adding: content/paprika/0000000083.jpg (deflated 2%)\n",
            "  adding: content/paprika/0000000085.jpg (deflated 2%)\n",
            "  adding: content/paprika/0000000051.jpg (deflated 2%)\n",
            "  adding: content/paprika/0000000065.jpg (deflated 2%)\n",
            "  adding: content/paprika/0000000057.jpg (deflated 2%)\n",
            "  adding: content/paprika/0000000071.jpg (deflated 2%)\n",
            "  adding: content/paprika/0000000020.jpg (deflated 2%)\n",
            "  adding: content/paprika/0000000043.jpg (deflated 2%)\n",
            "  adding: content/paprika/0000000047.jpg (deflated 2%)\n",
            "  adding: content/paprika/0000000070.jpg (deflated 2%)\n",
            "  adding: content/paprika/0000000005.jpg (deflated 2%)\n",
            "  adding: content/paprika/0000000098.jpg (deflated 2%)\n",
            "  adding: content/paprika/0000000147.jpg (deflated 2%)\n",
            "  adding: content/paprika/0000000109.jpg (deflated 2%)\n",
            "  adding: content/paprika/0000000059.jpg (deflated 2%)\n",
            "  adding: content/paprika/0000000008.jpg (deflated 2%)\n",
            "  adding: content/paprika/0000000006.jpg (deflated 2%)\n",
            "  adding: content/paprika/0000000146.jpg (deflated 2%)\n",
            "  adding: content/paprika/0000000073.jpg (deflated 2%)\n",
            "  adding: content/paprika/0000000067.jpg (deflated 2%)\n",
            "  adding: content/paprika/0000000077.jpg (deflated 2%)\n",
            "  adding: content/paprika/0000000035.jpg (deflated 2%)\n",
            "  adding: content/paprika/0000000104.jpg (deflated 2%)\n",
            "  adding: content/paprika/0000000124.jpg (deflated 2%)\n",
            "  adding: content/paprika/0000000014.jpg (deflated 2%)\n",
            "  adding: content/paprika/0000000144.jpg (deflated 2%)\n",
            "  adding: content/paprika/0000000097.jpg (deflated 2%)\n",
            "  adding: content/paprika/0000000082.jpg (deflated 2%)\n",
            "  adding: content/paprika/0000000030.jpg (deflated 2%)\n",
            "  adding: content/paprika/0000000113.jpg (deflated 2%)\n",
            "  adding: content/paprika/0000000141.jpg (deflated 2%)\n",
            "  adding: content/paprika/0000000041.jpg (deflated 2%)\n",
            "  adding: content/paprika/0000000114.jpg (deflated 2%)\n",
            "  adding: content/paprika/0000000122.jpg (deflated 2%)\n",
            "  adding: content/paprika/0000000022.jpg (deflated 2%)\n",
            "  adding: content/paprika/0000000040.jpg (deflated 2%)\n",
            "  adding: content/paprika/0000000033.jpg (deflated 2%)\n",
            "  adding: content/paprika/0000000019.jpg (deflated 2%)\n",
            "  adding: content/paprika/0000000004.jpg (deflated 2%)\n",
            "  adding: content/paprika/0000000132.jpg (deflated 2%)\n",
            "  adding: content/paprika/0000000096.jpg (deflated 2%)\n",
            "  adding: content/paprika/0000000016.jpg (deflated 2%)\n",
            "  adding: content/paprika/0000000063.jpg (deflated 2%)\n",
            "  adding: content/paprika/0000000000.jpg (deflated 2%)\n",
            "  adding: content/paprika/0000000075.jpg (deflated 2%)\n",
            "  adding: content/paprika/0000000068.jpg (deflated 2%)\n",
            "  adding: content/paprika/0000000142.jpg (deflated 2%)\n",
            "  adding: content/paprika/0000000149.jpg (deflated 2%)\n",
            "  adding: content/paprika/0000000095.jpg (deflated 2%)\n",
            "  adding: content/paprika/0000000015.jpg (deflated 2%)\n",
            "  adding: content/paprika/0000000002.jpg (deflated 2%)\n",
            "  adding: content/paprika/0000000139.jpg (deflated 2%)\n",
            "  adding: content/paprika/0000000125.jpg (deflated 2%)\n",
            "  adding: content/paprika/0000000086.jpg (deflated 2%)\n",
            "  adding: content/paprika/0000000021.jpg (deflated 2%)\n",
            "  adding: content/paprika/0000000093.jpg (deflated 2%)\n",
            "  adding: content/paprika/0000000046.jpg (deflated 2%)\n",
            "  adding: content/paprika/0000000010.jpg (deflated 2%)\n",
            "  adding: content/paprika/0000000060.jpg (deflated 2%)\n",
            "  adding: content/paprika/0000000111.jpg (deflated 2%)\n",
            "  adding: content/paprika/0000000027.jpg (deflated 2%)\n",
            "  adding: content/paprika/0000000038.jpg (deflated 2%)\n",
            "  adding: content/paprika/0000000103.jpg (deflated 2%)\n",
            "  adding: content/paprika/0000000151.jpg (deflated 2%)\n",
            "  adding: content/paprika/0000000072.jpg (deflated 2%)\n",
            "  adding: content/paprika/0000000091.jpg (deflated 2%)\n",
            "  adding: content/paprika/0000000053.jpg (deflated 2%)\n",
            "  adding: content/paprika/0000000024.jpg (deflated 2%)\n",
            "  adding: content/paprika/0000000145.jpg (deflated 2%)\n",
            "  adding: content/paprika/0000000034.jpg (deflated 2%)\n",
            "  adding: content/paprika/0000000118.jpg (deflated 2%)\n",
            "  adding: content/paprika/0000000108.jpg (deflated 2%)\n",
            "  adding: content/paprika/0000000036.jpg (deflated 2%)\n",
            "  adding: content/paprika/0000000031.jpg (deflated 2%)\n",
            "  adding: content/paprika/0000000121.jpg (deflated 2%)\n",
            "  adding: content/paprika/0000000112.jpg (deflated 2%)\n",
            "  adding: content/paprika/0000000102.jpg (deflated 2%)\n",
            "  adding: content/paprika/0000000037.jpg (deflated 2%)\n",
            "  adding: content/paprika/0000000130.jpg (deflated 2%)\n",
            "  adding: content/paprika/0000000042.jpg (deflated 2%)\n",
            "  adding: content/paprika/0000000106.jpg (deflated 2%)\n",
            "  adding: content/paprika/0000000089.jpg (deflated 2%)\n",
            "  adding: content/paprika/0000000138.jpg (deflated 2%)\n",
            "  adding: content/paprika/0000000133.jpg (deflated 2%)\n",
            "  adding: content/paprika/0000000135.jpg (deflated 2%)\n",
            "  adding: content/paprika/0000000116.jpg (deflated 2%)\n",
            "  adding: content/paprika/0000000123.jpg (deflated 2%)\n",
            "  adding: content/paprika/0000000081.jpg (deflated 2%)\n",
            "  adding: content/paprika/0000000066.jpg (deflated 2%)\n",
            "  adding: content/paprika/0000000061.jpg (deflated 2%)\n",
            "  adding: content/paprika/0000000107.jpg (deflated 2%)\n",
            "  adding: content/paprika/0000000126.jpg (deflated 2%)\n",
            "  adding: content/paprika/0000000017.jpg (deflated 2%)\n",
            "  adding: content/paprika/0000000012.jpg (deflated 2%)\n",
            "  adding: content/paprika/0000000011.jpg (deflated 2%)\n",
            "  adding: content/paprika/0000000013.jpg (deflated 2%)\n",
            "  adding: content/paprika/0000000100.jpg (deflated 2%)\n",
            "  adding: content/paprika/0000000009.jpg (deflated 2%)\n",
            "  adding: content/paprika/0000000117.jpg (deflated 2%)\n",
            "  adding: content/paprika/0000000029.jpg (deflated 2%)\n",
            "  adding: content/paprika/0000000148.jpg (deflated 2%)\n",
            "  adding: content/paprika/0000000092.jpg (deflated 2%)\n",
            "  adding: content/paprika/0000000136.jpg (deflated 2%)\n",
            "  adding: content/paprika/0000000023.jpg (deflated 2%)\n",
            "  adding: content/paprika/0000000090.jpg (deflated 2%)\n"
          ]
        }
      ]
    },
    {
      "cell_type": "code",
      "source": [
        "from google.colab import files\n",
        "files.download(\"/content/paprikalt.zip\")"
      ],
      "metadata": {
        "colab": {
          "base_uri": "https://localhost:8080/",
          "height": 17
        },
        "id": "VG1pe72Eapf-",
        "outputId": "92fbc265-792a-4984-b4e3-ca681bddcf5a"
      },
      "execution_count": null,
      "outputs": [
        {
          "output_type": "display_data",
          "data": {
            "text/plain": [
              "<IPython.core.display.Javascript object>"
            ],
            "application/javascript": [
              "\n",
              "    async function download(id, filename, size) {\n",
              "      if (!google.colab.kernel.accessAllowed) {\n",
              "        return;\n",
              "      }\n",
              "      const div = document.createElement('div');\n",
              "      const label = document.createElement('label');\n",
              "      label.textContent = `Downloading \"${filename}\": `;\n",
              "      div.appendChild(label);\n",
              "      const progress = document.createElement('progress');\n",
              "      progress.max = size;\n",
              "      div.appendChild(progress);\n",
              "      document.body.appendChild(div);\n",
              "\n",
              "      const buffers = [];\n",
              "      let downloaded = 0;\n",
              "\n",
              "      const channel = await google.colab.kernel.comms.open(id);\n",
              "      // Send a message to notify the kernel that we're ready.\n",
              "      channel.send({})\n",
              "\n",
              "      for await (const message of channel.messages) {\n",
              "        // Send a message to notify the kernel that we're ready.\n",
              "        channel.send({})\n",
              "        if (message.buffers) {\n",
              "          for (const buffer of message.buffers) {\n",
              "            buffers.push(buffer);\n",
              "            downloaded += buffer.byteLength;\n",
              "            progress.value = downloaded;\n",
              "          }\n",
              "        }\n",
              "      }\n",
              "      const blob = new Blob(buffers, {type: 'application/binary'});\n",
              "      const a = document.createElement('a');\n",
              "      a.href = window.URL.createObjectURL(blob);\n",
              "      a.download = filename;\n",
              "      div.appendChild(a);\n",
              "      a.click();\n",
              "      div.remove();\n",
              "    }\n",
              "  "
            ]
          },
          "metadata": {}
        },
        {
          "output_type": "display_data",
          "data": {
            "text/plain": [
              "<IPython.core.display.Javascript object>"
            ],
            "application/javascript": [
              "download(\"download_0621a008-f7de-4b86-a50b-cc2f89178ed0\", \"paprikalt.zip\", 1212608)"
            ]
          },
          "metadata": {}
        }
      ]
    },
    {
      "cell_type": "code",
      "metadata": {
        "id": "3CqGjp_L5Aqe",
        "cellView": "form"
      },
      "source": [
        "Comparison = False #@param {type:\"boolean\"}"
      ],
      "execution_count": null,
      "outputs": []
    },
    {
      "cell_type": "code",
      "source": [],
      "metadata": {
        "id": "sgTlp9QXae2T"
      },
      "execution_count": null,
      "outputs": []
    },
    {
      "cell_type": "code",
      "metadata": {
        "id": "FGrQAIPSTt2K",
        "cellView": "form"
      },
      "source": [
        "#@title Help\n",
        "!python3 cartoonize.py --help"
      ],
      "execution_count": null,
      "outputs": []
    },
    {
      "cell_type": "code",
      "metadata": {
        "id": "2ll4mhtUMecK",
        "cellView": "form"
      },
      "source": [
        "import math\n",
        "styles = \"paprika\" #@param [\"shinkai\", \"hayao\", \"hosoda\", \"paprika\"]\n",
        "Inputdir = \"/content/\" + vidname\n",
        "sn = \"/content/\" + styles\n",
        "rfpsl = math.floor(fps)"
      ],
      "execution_count": null,
      "outputs": []
    },
    {
      "cell_type": "code",
      "metadata": {
        "id": "gXZDnavco7WL",
        "colab": {
          "base_uri": "https://localhost:8080/"
        },
        "outputId": "ab967906-3ebc-4182-f46c-8932e5e1b9e6",
        "cellView": "form"
      },
      "source": [
        "#@title Cartoonize retain(slow)\n",
        "!rm -rf {sn}\n",
        "!rm -rf \"/content/comparison\"\n",
        "small = False\n",
        "if(Comparison == True):\n",
        "  !python cartoonize.py \\\n",
        "      --styles {styles} \\\n",
        "      --batch_size {rfpsl} \\\n",
        "      --comparison_view horizontal \\\n",
        "      --input_dir {Inputdir} \\\n",
        "      --keep_original_size \\\n",
        "      --output_dir \"/content/\"\n",
        "else:\n",
        "    !python cartoonize.py \\\n",
        "      --styles {styles} \\\n",
        "      --batch_size {rfpsl} \\\n",
        "      --input_dir {Inputdir} \\\n",
        "      --keep_original_size \\\n",
        "      --output_dir \"/content/\"\n",
        "#clear_output()"
      ],
      "execution_count": null,
      "outputs": [
        {
          "output_type": "stream",
          "name": "stdout",
          "text": [
            "[2022-03-30 17:35:50] [Cartoonizer] [INFO] Transformed images will be saved to `/content/` folder.\n",
            "[2022-03-30 17:35:53] [Cartoonizer] [INFO] Cartoonizing images using paprika style...\n",
            "[2022-03-30 17:35:53] [Cartoonizer] [INFO] Preparing to transform 281 images from `/content/P.mp4` directory...\n",
            "Transforming: 100% 281/281 [03:12<00:00,  1.46it/s, File=0000000167.jpg]\n",
            "[2022-03-30 17:39:06] [Cartoonizer] [INFO] Total processing time: 0:03:16.500108\n"
          ]
        }
      ]
    },
    {
      "cell_type": "code",
      "metadata": {
        "id": "PgmSYO8J657-",
        "colab": {
          "base_uri": "https://localhost:8080/"
        },
        "outputId": "36209847-7e2b-4b0b-869e-0224a2f81b13",
        "cellView": "form"
      },
      "source": [
        "#@title Cartoonize resize\n",
        "!rm -rf {sn}\n",
        "small = True\n",
        "!rm -rf \"/content/comparison\"\n",
        "if(Comparison == True):\n",
        "  !python3 cartoonize.py \\\n",
        "      --styles {styles} \\\n",
        "      --batch_size {rfpsl} \\\n",
        "      --comparison_view horizontal \\\n",
        "      --input_dir {Inputdir} \\\n",
        "      --output_dir \"/content/\"\n",
        "else:\n",
        "    !python3 cartoonize.py \\\n",
        "      --styles {styles} \\\n",
        "      --batch_size {rfpsl} \\\n",
        "      --input_dir {Inputdir} \\\n",
        "      --output_dir \"/content/\""
      ],
      "execution_count": null,
      "outputs": [
        {
          "output_type": "stream",
          "name": "stdout",
          "text": [
            "[2022-10-07 12:30:49] [Cartoonizer] [INFO] Transformed images will be saved to `/content/` folder.\n",
            "[2022-10-07 12:30:52] [Cartoonizer] [INFO] Cartoonizing images using paprika style...\n",
            "[2022-10-07 12:30:52] [Cartoonizer] [INFO] Preparing to transform 153 images from `/content/Alt.mp4` directory...\n",
            "Transforming: 100% 153/153 [00:24<00:00,  6.19it/s, File=0000000090.jpg]\n",
            "[2022-10-07 12:31:17] [Cartoonizer] [INFO] Total processing time: 0:00:28.174785\n"
          ]
        }
      ]
    },
    {
      "cell_type": "code",
      "metadata": {
        "id": "LIjTmUpXhbwf",
        "colab": {
          "base_uri": "https://localhost:8080/",
          "height": 1000
        },
        "outputId": "acc90619-f6e2-4f2c-a7a6-94ce6bd3720c"
      },
      "source": [
        "#@title Compile\n",
        "import cv2\n",
        "import numpy as np\n",
        "import os\n",
        "import random \n",
        "from os.path import isfile, join\n",
        "import shutil\n",
        " \n",
        "numberList = [1,2,3,4,5,6,7,8,9,10,11,12,13,14,15,16,17,18,19,20,21,22,23,24,25,26,27,28,29,30,31,32,33,34,35,36,37,38,39,40,41]\n",
        "entil = random.choice(numberList)\n",
        "\n",
        "if(small == True):\n",
        "  add = \" rough\"\n",
        "else:\n",
        "  add = \" synced\"\n",
        "def convert_frames_to_video(pathIn,pathOut,fps):\n",
        "    frame_array = []\n",
        "    files = [f for f in os.listdir(pathIn) if isfile(join(pathIn, f))]\n",
        " \n",
        "    #for sorting the file names properly\n",
        "    files.sort(key = lambda x: int(x[5:-4]))\n",
        " \n",
        "    for i in range(len(files)):\n",
        "        filename=pathIn + files[i]\n",
        "        #reading each files\n",
        "        img = cv2.imread(filename)\n",
        "        #print(img)\n",
        "        height, width, layers = img.shape\n",
        "        size = (width,height)\n",
        "        print(filename)\n",
        "        #inserting the frames into an image array\n",
        "        frame_array.append(img)\n",
        " \n",
        "    out = cv2.VideoWriter(pathOut,cv2.VideoWriter_fourcc(*'DIVX'), fps, size)\n",
        " \n",
        "    for i in range(len(frame_array)):\n",
        "        # writing to a image array\n",
        "        out.write(frame_array[i])\n",
        "    out.release()\n",
        "def main():\n",
        "    pathIn= \"/content/\" + styles + \"/\"\n",
        "    pathOut = \"/content/drive/MyDrive/Cartoonized/\" + name + \"tmp\" + styles + add + \".mp4\"\n",
        "    convert_frames_to_video(pathIn, pathOut, fps)\n",
        "\n",
        "if __name__==\"__main__\":\n",
        "    main()\n",
        "pathIn= \"/content/\" + styles + \"/\"\n",
        "pathOut = \"/content/drive/MyDrive/Cartoonized/\" + name + \"tmp\" + styles + add + \".mp4\"\n",
        "npathOut = \"/content/drive/MyDrive/Cartoonized/\" + name + \" \" + styles + add + \".mp4\"\n",
        "\n",
        "\n",
        "patht = \"/content/drive/MyDrive/Cartoonized/comparison/\" + name + \"tmp\" + styles + add + \" comparison\" + \".mp4\"\n",
        "npatht = \"/content/drive/MyDrive/Cartoonized/comparison/\" + name + \" \" + styles + add + \" comparison\" + \".mp4\"\n",
        "if(Comparison == True):\n",
        "   convert_frames_to_video(\"/content/comparison/\", patht, fps)\n",
        "from moviepy.editor import *\n",
        "\n",
        "\n",
        "videoclip = VideoFileClip(pathOut)\n",
        "audioclip = AudioFileClip(audioname)\n",
        "new_audioclip = CompositeAudioClip([audioclip])\n",
        "videoclip.audio = new_audioclip\n",
        "videoclip.write_videofile(npathOut)\n",
        "\n",
        "\n",
        "delete_filepath = pathOut\n",
        "open(delete_filepath, 'w').close() #overwrite and make the file blank instead - ref: https://stackoverflow.com/a/4914288/3553367\n",
        "os.remove(delete_filepath)\n",
        "\n",
        "if(Comparison == True):\n",
        "  videoclipe = VideoFileClip(patht)\n",
        "  audioclipe = AudioFileClip(audioname)\n",
        "  new_audioclipe = CompositeAudioClip([audioclipe])\n",
        "  videoclipe.audio = new_audioclipe\n",
        "  videoclipe.write_videofile(npatht)\n",
        "  delete_filepathd = patht\n",
        "  open(delete_filepathd, 'w').close() \n",
        "  os.remove(delete_filepathd)\n",
        "\n"
      ],
      "execution_count": null,
      "outputs": [
        {
          "output_type": "stream",
          "name": "stdout",
          "text": [
            "/content/paprika/0000000000.jpg\n",
            "/content/paprika/0000000001.jpg\n",
            "/content/paprika/0000000002.jpg\n",
            "/content/paprika/0000000003.jpg\n",
            "/content/paprika/0000000004.jpg\n",
            "/content/paprika/0000000005.jpg\n",
            "/content/paprika/0000000006.jpg\n",
            "/content/paprika/0000000007.jpg\n",
            "/content/paprika/0000000008.jpg\n",
            "/content/paprika/0000000009.jpg\n",
            "/content/paprika/0000000010.jpg\n",
            "/content/paprika/0000000011.jpg\n",
            "/content/paprika/0000000012.jpg\n",
            "/content/paprika/0000000013.jpg\n",
            "/content/paprika/0000000014.jpg\n",
            "/content/paprika/0000000015.jpg\n",
            "/content/paprika/0000000016.jpg\n",
            "/content/paprika/0000000017.jpg\n",
            "/content/paprika/0000000018.jpg\n",
            "/content/paprika/0000000019.jpg\n",
            "/content/paprika/0000000020.jpg\n",
            "/content/paprika/0000000021.jpg\n",
            "/content/paprika/0000000022.jpg\n",
            "/content/paprika/0000000023.jpg\n",
            "/content/paprika/0000000024.jpg\n",
            "/content/paprika/0000000025.jpg\n",
            "/content/paprika/0000000026.jpg\n",
            "/content/paprika/0000000027.jpg\n",
            "/content/paprika/0000000028.jpg\n",
            "/content/paprika/0000000029.jpg\n",
            "/content/paprika/0000000030.jpg\n",
            "/content/paprika/0000000031.jpg\n",
            "/content/paprika/0000000032.jpg\n",
            "/content/paprika/0000000033.jpg\n",
            "/content/paprika/0000000034.jpg\n",
            "/content/paprika/0000000035.jpg\n",
            "/content/paprika/0000000036.jpg\n",
            "/content/paprika/0000000037.jpg\n",
            "/content/paprika/0000000038.jpg\n",
            "/content/paprika/0000000039.jpg\n",
            "/content/paprika/0000000040.jpg\n",
            "/content/paprika/0000000041.jpg\n",
            "/content/paprika/0000000042.jpg\n",
            "/content/paprika/0000000043.jpg\n",
            "/content/paprika/0000000044.jpg\n",
            "/content/paprika/0000000045.jpg\n",
            "/content/paprika/0000000046.jpg\n",
            "/content/paprika/0000000047.jpg\n",
            "/content/paprika/0000000048.jpg\n",
            "/content/paprika/0000000049.jpg\n",
            "/content/paprika/0000000050.jpg\n",
            "/content/paprika/0000000051.jpg\n",
            "/content/paprika/0000000052.jpg\n",
            "/content/paprika/0000000053.jpg\n",
            "/content/paprika/0000000054.jpg\n",
            "/content/paprika/0000000055.jpg\n",
            "/content/paprika/0000000056.jpg\n",
            "/content/paprika/0000000057.jpg\n",
            "/content/paprika/0000000058.jpg\n",
            "/content/paprika/0000000059.jpg\n",
            "/content/paprika/0000000060.jpg\n",
            "/content/paprika/0000000061.jpg\n",
            "/content/paprika/0000000062.jpg\n",
            "/content/paprika/0000000063.jpg\n",
            "/content/paprika/0000000064.jpg\n",
            "/content/paprika/0000000065.jpg\n",
            "/content/paprika/0000000066.jpg\n",
            "/content/paprika/0000000067.jpg\n",
            "/content/paprika/0000000068.jpg\n",
            "/content/paprika/0000000069.jpg\n",
            "/content/paprika/0000000070.jpg\n",
            "/content/paprika/0000000071.jpg\n",
            "/content/paprika/0000000072.jpg\n",
            "/content/paprika/0000000073.jpg\n",
            "/content/paprika/0000000074.jpg\n",
            "/content/paprika/0000000075.jpg\n",
            "/content/paprika/0000000076.jpg\n",
            "/content/paprika/0000000077.jpg\n",
            "/content/paprika/0000000078.jpg\n",
            "/content/paprika/0000000079.jpg\n",
            "/content/paprika/0000000080.jpg\n",
            "/content/paprika/0000000081.jpg\n",
            "/content/paprika/0000000082.jpg\n",
            "/content/paprika/0000000083.jpg\n",
            "/content/paprika/0000000084.jpg\n",
            "/content/paprika/0000000085.jpg\n",
            "/content/paprika/0000000086.jpg\n",
            "/content/paprika/0000000087.jpg\n",
            "/content/paprika/0000000088.jpg\n",
            "/content/paprika/0000000089.jpg\n",
            "/content/paprika/0000000090.jpg\n",
            "/content/paprika/0000000091.jpg\n",
            "/content/paprika/0000000092.jpg\n",
            "/content/paprika/0000000093.jpg\n",
            "/content/paprika/0000000094.jpg\n",
            "/content/paprika/0000000095.jpg\n",
            "/content/paprika/0000000096.jpg\n",
            "/content/paprika/0000000097.jpg\n",
            "/content/paprika/0000000098.jpg\n",
            "/content/paprika/0000000099.jpg\n",
            "/content/paprika/0000000100.jpg\n",
            "/content/paprika/0000000101.jpg\n",
            "/content/paprika/0000000102.jpg\n",
            "/content/paprika/0000000103.jpg\n",
            "/content/paprika/0000000104.jpg\n",
            "/content/paprika/0000000105.jpg\n",
            "/content/paprika/0000000106.jpg\n",
            "/content/paprika/0000000107.jpg\n",
            "/content/paprika/0000000108.jpg\n",
            "/content/paprika/0000000109.jpg\n",
            "/content/paprika/0000000110.jpg\n",
            "/content/paprika/0000000111.jpg\n",
            "/content/paprika/0000000112.jpg\n",
            "/content/paprika/0000000113.jpg\n",
            "/content/paprika/0000000114.jpg\n",
            "/content/paprika/0000000115.jpg\n",
            "/content/paprika/0000000116.jpg\n",
            "/content/paprika/0000000117.jpg\n",
            "/content/paprika/0000000118.jpg\n",
            "/content/paprika/0000000119.jpg\n",
            "/content/paprika/0000000120.jpg\n",
            "/content/paprika/0000000121.jpg\n",
            "/content/paprika/0000000122.jpg\n",
            "/content/paprika/0000000123.jpg\n",
            "/content/paprika/0000000124.jpg\n",
            "/content/paprika/0000000125.jpg\n",
            "/content/paprika/0000000126.jpg\n",
            "/content/paprika/0000000127.jpg\n",
            "/content/paprika/0000000128.jpg\n",
            "/content/paprika/0000000129.jpg\n",
            "/content/paprika/0000000130.jpg\n",
            "/content/paprika/0000000131.jpg\n",
            "/content/paprika/0000000132.jpg\n",
            "/content/paprika/0000000133.jpg\n",
            "/content/paprika/0000000134.jpg\n",
            "/content/paprika/0000000135.jpg\n",
            "/content/paprika/0000000136.jpg\n",
            "/content/paprika/0000000137.jpg\n",
            "/content/paprika/0000000138.jpg\n",
            "/content/paprika/0000000139.jpg\n",
            "/content/paprika/0000000140.jpg\n",
            "/content/paprika/0000000141.jpg\n",
            "/content/paprika/0000000142.jpg\n",
            "/content/paprika/0000000143.jpg\n",
            "/content/paprika/0000000144.jpg\n",
            "/content/paprika/0000000145.jpg\n",
            "/content/paprika/0000000146.jpg\n",
            "/content/paprika/0000000147.jpg\n",
            "/content/paprika/0000000148.jpg\n",
            "/content/paprika/0000000149.jpg\n",
            "/content/paprika/0000000150.jpg\n",
            "/content/paprika/0000000151.jpg\n",
            "/content/paprika/0000000152.jpg\n"
          ]
        },
        {
          "output_type": "error",
          "ename": "OSError",
          "evalue": "ignored",
          "traceback": [
            "\u001b[0;31m---------------------------------------------------------------------------\u001b[0m",
            "\u001b[0;31mOSError\u001b[0m                                   Traceback (most recent call last)",
            "\u001b[0;32m<ipython-input-11-da3dfff72589>\u001b[0m in \u001b[0;36m<module>\u001b[0;34m\u001b[0m\n\u001b[1;32m     57\u001b[0m \u001b[0;34m\u001b[0m\u001b[0m\n\u001b[1;32m     58\u001b[0m \u001b[0;34m\u001b[0m\u001b[0m\n\u001b[0;32m---> 59\u001b[0;31m \u001b[0mvideoclip\u001b[0m \u001b[0;34m=\u001b[0m \u001b[0mVideoFileClip\u001b[0m\u001b[0;34m(\u001b[0m\u001b[0mpathOut\u001b[0m\u001b[0;34m)\u001b[0m\u001b[0;34m\u001b[0m\u001b[0;34m\u001b[0m\u001b[0m\n\u001b[0m\u001b[1;32m     60\u001b[0m \u001b[0maudioclip\u001b[0m \u001b[0;34m=\u001b[0m \u001b[0mAudioFileClip\u001b[0m\u001b[0;34m(\u001b[0m\u001b[0maudioname\u001b[0m\u001b[0;34m)\u001b[0m\u001b[0;34m\u001b[0m\u001b[0;34m\u001b[0m\u001b[0m\n\u001b[1;32m     61\u001b[0m \u001b[0mnew_audioclip\u001b[0m \u001b[0;34m=\u001b[0m \u001b[0mCompositeAudioClip\u001b[0m\u001b[0;34m(\u001b[0m\u001b[0;34m[\u001b[0m\u001b[0maudioclip\u001b[0m\u001b[0;34m]\u001b[0m\u001b[0;34m)\u001b[0m\u001b[0;34m\u001b[0m\u001b[0;34m\u001b[0m\u001b[0m\n",
            "\u001b[0;32m/usr/local/lib/python3.7/dist-packages/moviepy/video/io/VideoFileClip.py\u001b[0m in \u001b[0;36m__init__\u001b[0;34m(self, filename, has_mask, audio, audio_buffersize, target_resolution, resize_algorithm, audio_fps, audio_nbytes, verbose, fps_source)\u001b[0m\n\u001b[1;32m     89\u001b[0m                                          \u001b[0mtarget_resolution\u001b[0m\u001b[0;34m=\u001b[0m\u001b[0mtarget_resolution\u001b[0m\u001b[0;34m,\u001b[0m\u001b[0;34m\u001b[0m\u001b[0;34m\u001b[0m\u001b[0m\n\u001b[1;32m     90\u001b[0m                                          \u001b[0mresize_algo\u001b[0m\u001b[0;34m=\u001b[0m\u001b[0mresize_algorithm\u001b[0m\u001b[0;34m,\u001b[0m\u001b[0;34m\u001b[0m\u001b[0;34m\u001b[0m\u001b[0m\n\u001b[0;32m---> 91\u001b[0;31m                                          fps_source=fps_source)\n\u001b[0m\u001b[1;32m     92\u001b[0m \u001b[0;34m\u001b[0m\u001b[0m\n\u001b[1;32m     93\u001b[0m         \u001b[0;31m# Make some of the reader's attributes accessible from the clip\u001b[0m\u001b[0;34m\u001b[0m\u001b[0;34m\u001b[0m\u001b[0;34m\u001b[0m\u001b[0m\n",
            "\u001b[0;32m/usr/local/lib/python3.7/dist-packages/moviepy/video/io/ffmpeg_reader.py\u001b[0m in \u001b[0;36m__init__\u001b[0;34m(self, filename, print_infos, bufsize, pix_fmt, check_duration, target_resolution, resize_algo, fps_source)\u001b[0m\n\u001b[1;32m     31\u001b[0m         \u001b[0mself\u001b[0m\u001b[0;34m.\u001b[0m\u001b[0mproc\u001b[0m \u001b[0;34m=\u001b[0m \u001b[0;32mNone\u001b[0m\u001b[0;34m\u001b[0m\u001b[0;34m\u001b[0m\u001b[0m\n\u001b[1;32m     32\u001b[0m         infos = ffmpeg_parse_infos(filename, print_infos, check_duration,\n\u001b[0;32m---> 33\u001b[0;31m                                    fps_source)\n\u001b[0m\u001b[1;32m     34\u001b[0m         \u001b[0mself\u001b[0m\u001b[0;34m.\u001b[0m\u001b[0mfps\u001b[0m \u001b[0;34m=\u001b[0m \u001b[0minfos\u001b[0m\u001b[0;34m[\u001b[0m\u001b[0;34m'video_fps'\u001b[0m\u001b[0;34m]\u001b[0m\u001b[0;34m\u001b[0m\u001b[0;34m\u001b[0m\u001b[0m\n\u001b[1;32m     35\u001b[0m         \u001b[0mself\u001b[0m\u001b[0;34m.\u001b[0m\u001b[0msize\u001b[0m \u001b[0;34m=\u001b[0m \u001b[0minfos\u001b[0m\u001b[0;34m[\u001b[0m\u001b[0;34m'video_size'\u001b[0m\u001b[0;34m]\u001b[0m\u001b[0;34m\u001b[0m\u001b[0;34m\u001b[0m\u001b[0m\n",
            "\u001b[0;32m/usr/local/lib/python3.7/dist-packages/moviepy/video/io/ffmpeg_reader.py\u001b[0m in \u001b[0;36mffmpeg_parse_infos\u001b[0;34m(filename, print_infos, check_duration, fps_source)\u001b[0m\n\u001b[1;32m    270\u001b[0m         raise IOError((\"MoviePy error: the file %s could not be found!\\n\"\n\u001b[1;32m    271\u001b[0m                       \u001b[0;34m\"Please check that you entered the correct \"\u001b[0m\u001b[0;34m\u001b[0m\u001b[0;34m\u001b[0m\u001b[0m\n\u001b[0;32m--> 272\u001b[0;31m                       \"path.\")%filename)\n\u001b[0m\u001b[1;32m    273\u001b[0m \u001b[0;34m\u001b[0m\u001b[0m\n\u001b[1;32m    274\u001b[0m     \u001b[0mresult\u001b[0m \u001b[0;34m=\u001b[0m \u001b[0mdict\u001b[0m\u001b[0;34m(\u001b[0m\u001b[0;34m)\u001b[0m\u001b[0;34m\u001b[0m\u001b[0;34m\u001b[0m\u001b[0m\n",
            "\u001b[0;31mOSError\u001b[0m: MoviePy error: the file /content/drive/MyDrive/Cartoonized/Alttmppaprika rough.mp4 could not be found!\nPlease check that you entered the correct path."
          ]
        }
      ]
    },
    {
      "cell_type": "code",
      "metadata": {
        "id": "SoEyweyC5zpp",
        "cellView": "form"
      },
      "source": [
        "#@title Clear for new\n",
        "!rm -rf \"/content/paprika\"\n",
        "!rm -rf \"/content/hosoda\"\n",
        "!rm -rf \"/content/hayao\"\n",
        "!rm -rf \"/content/shinkai\"\n",
        "!rm -rf \"/content/comparison\"\n",
        "!rm -rf {Inputdir}\n",
        "clear_output()"
      ],
      "execution_count": null,
      "outputs": []
    },
    {
      "cell_type": "code",
      "metadata": {
        "id": "QG22Lmj7fCkT",
        "cellView": "form"
      },
      "source": [
        "#@title Ignore\n",
        "#os.mkdir(\"/content/In/\")\n",
        "input_image_dir = \"/content/\"\n",
        "output_image_dir = \"/content/\"\n",
        "\n",
        "# import time\n",
        "# if image_url:\n",
        "#     img_filename = image_url.split(\"/\")[-1]\n",
        "#     name, ext = '.'.join(img_filename.split(\".\")[:-1]), img_filename.split(\".\")[-1]\n",
        "#     new_name = '_'.join((name, str(int(time.time()))))\n",
        "#     new_img_filename = '.'.join((new_name, ext))\n",
        "#     image_path = os.path.join(input_image_dir, new_img_filename)\n",
        "    \n",
        "#     !wget {image_url} \\\n",
        "#         && mv {img_filename} {new_img_filename} \\\n",
        "#         && mv {new_img_filename} {image_path}"
      ],
      "execution_count": null,
      "outputs": []
    },
    {
      "cell_type": "markdown",
      "metadata": {
        "id": "nhHXfDdqVeaN"
      },
      "source": [
        "# Other s"
      ]
    },
    {
      "cell_type": "code",
      "metadata": {
        "id": "kQvinoB4uimO",
        "cellView": "form"
      },
      "source": [
        "#@title Other one for extracting frames\n",
        "#import cv2\n",
        "vidcap = cv2.VideoCapture('video.mp4')\n",
        "def getFrame(sec):\n",
        "    vidcap.set(cv2.CAP_PROP_POS_MSEC,sec*1000)\n",
        "    hasFrames,image = vidcap.read()\n",
        "    if hasFrames:\n",
        "        cv2.imwrite(\"image\"+str(count)+\".jpg\", image)     # save frame as JPG file\n",
        "    return hasFrames\n",
        "sec = 0\n",
        "frameRate = fps #//it will capture image in each 0.5 second\n",
        "count=1\n",
        "success = getFrame(sec)\n",
        "while success:\n",
        "    count = count + 1\n",
        "    sec = sec + frameRate\n",
        "    sec = round(sec, 2)\n",
        "    success = getFrame(sec)"
      ],
      "execution_count": null,
      "outputs": []
    },
    {
      "cell_type": "code",
      "metadata": {
        "id": "Kw3aRvL2lG3I",
        "cellView": "form"
      },
      "source": [
        "#@title For GIF\n",
        "# a trick to show gif in notebook\n",
        "if \".gif\" in new_img_filename:\n",
        "    png_path = new_img_filename + '.png'\n",
        "    !cp {image_path} {png_path}"
      ],
      "execution_count": null,
      "outputs": []
    },
    {
      "cell_type": "code",
      "metadata": {
        "id": "JDbiX01B2u9n",
        "cellView": "form"
      },
      "source": [
        "#@title\n",
        "!zip -r /content/SandyDancePaprika.zip /content/paprika/\n",
        "clear_output()"
      ],
      "execution_count": null,
      "outputs": []
    },
    {
      "cell_type": "code",
      "metadata": {
        "id": "ggLeaT5GkhHR",
        "cellView": "form"
      },
      "source": [
        "#@title Display\n",
        "display(Image(png_path))"
      ],
      "execution_count": null,
      "outputs": []
    },
    {
      "cell_type": "code",
      "metadata": {
        "id": "uZPv25hzgphl",
        "cellView": "form"
      },
      "source": [
        "#@title\n",
        "if img_filename:\n",
        "    if \".gif\" in img_filename:\n",
        "        generated_gif = os.path.join(output_image_dir, \"comparison\", new_img_filename)\n",
        "        result_path = generated_gif + '.png'\n",
        "        !cp {generated_gif} {result_path}\n",
        "    else:\n",
        "        result_path = os.path.join(output_image_dir, \"comparison\", new_img_filename)"
      ],
      "execution_count": null,
      "outputs": []
    },
    {
      "cell_type": "code",
      "metadata": {
        "id": "9Ag1yzD4eukk"
      },
      "source": [
        "#@title\n",
        "!tree {output_image_dir}"
      ],
      "execution_count": null,
      "outputs": []
    },
    {
      "cell_type": "code",
      "metadata": {
        "id": "wksYrXhNe1td"
      },
      "source": [
        "!apt-get install tree\n",
        "clear_output()"
      ],
      "execution_count": null,
      "outputs": []
    },
    {
      "cell_type": "code",
      "metadata": {
        "id": "G6FBPcuH_duw",
        "colab": {
          "base_uri": "https://localhost:8080/",
          "height": 34
        },
        "outputId": "6c1c3e63-9806-425f-e075-fd39d5c40f5c"
      },
      "source": [
        "import glob\n",
        "os.listdir()\n",
        "vditory = \"/content/drive/My Drive/Datasets/Ynot/Fight.mp4\" #@param {type: \"string\"}\n",
        "vime = vditory.split(\"/\")[-1]\n",
        "nae = '.'.join(vime.split(\".\")[:-1])"
      ],
      "execution_count": null,
      "outputs": [
        {
          "output_type": "execute_result",
          "data": {
            "text/plain": [
              "['.config', 'Untitled Folder', 'sample_data']"
            ]
          },
          "metadata": {
            "tags": []
          },
          "execution_count": 3
        }
      ]
    },
    {
      "cell_type": "code",
      "metadata": {
        "id": "5AKEQ2t2Burn"
      },
      "source": [
        "from IPython.display import display, Javascript\n",
        "from google.colab.output import eval_js\n",
        "from base64 import b64decode\n",
        "\n",
        "def take_photo(filename='photo.jpg', quality=0.8):\n",
        "  js = Javascript('''\n",
        "    async function takePhoto(quality) {\n",
        "      const div = document.createElement('div');\n",
        "      const capture = document.createElement('button');\n",
        "      capture.textContent = 'Capture';\n",
        "      div.appendChild(capture);\n",
        "\n",
        "      const video = document.createElement('video');\n",
        "      video.style.display = 'block';\n",
        "      const stream = await navigator.mediaDevices.getUserMedia({video: true});\n",
        "\n",
        "      document.body.appendChild(div);\n",
        "      div.appendChild(video);\n",
        "      video.srcObject = stream;\n",
        "      await video.play();\n",
        "\n",
        "      // Resize the output to fit the video element.\n",
        "      google.colab.output.setIframeHeight(document.documentElement.scrollHeight, true);\n",
        "\n",
        "      // Wait for Capture to be clicked.\n",
        "      await new Promise((resolve) => capture.onclick = resolve);\n",
        "\n",
        "      const canvas = document.createElement('canvas');\n",
        "      canvas.width = video.videoWidth;\n",
        "      canvas.height = video.videoHeight;\n",
        "      canvas.getContext('2d').drawImage(video, 0, 0);\n",
        "      stream.getVideoTracks()[0].stop();\n",
        "      div.remove();\n",
        "      return canvas.toDataURL('image/jpeg', quality);\n",
        "    }\n",
        "    ''')\n",
        "  display(js)\n",
        "  data = eval_js('takePhoto({})'.format(quality))\n",
        "  binary = b64decode(data.split(',')[1])\n",
        "  with open(filename, 'wb') as f:\n",
        "    f.write(binary)\n",
        "  return filename"
      ],
      "execution_count": null,
      "outputs": []
    },
    {
      "cell_type": "code",
      "metadata": {
        "id": "GJwWhByfBuq1"
      },
      "source": [
        "from IPython.display import Image\n",
        "try:\n",
        "  filename = take_photo()\n",
        "  print('Saved to {}'.format(filename))\n",
        "  \n",
        "  # Show the image which was just taken.\n",
        "  display(Image(filename))\n",
        "except Exception as err:\n",
        "  # Errors will be thrown if the user does not have a webcam or if they do not\n",
        "  # grant the page permission to access it.\n",
        "  print(str(err))"
      ],
      "execution_count": null,
      "outputs": []
    },
    {
      "cell_type": "markdown",
      "source": [
        "# Modify"
      ],
      "metadata": {
        "id": "AfWteB2XW0gT"
      }
    },
    {
      "cell_type": "code",
      "source": [
        "\n",
        "import shutil\n",
        "\n",
        "import os\n",
        "\n",
        "pathrife = '/content/mk/' #@param {type: \"string\"}\n",
        "\n",
        "isExist = os.path.exists(pathrife)\n",
        "\n",
        "if not isExist:\n",
        "  \n",
        "  os.makedirs(pathrife)\n",
        "  print(pathrife + \" is created!\")\n",
        "shutil.copy(npathOut, pathrife)\n",
        "print('/content/mk/' + )"
      ],
      "metadata": {
        "colab": {
          "base_uri": "https://localhost:8080/",
          "height": 53
        },
        "id": "4AXfvmRctNdy",
        "outputId": "ad20f664-c371-433d-ebf7-2c020541255e",
        "cellView": "form"
      },
      "execution_count": null,
      "outputs": [
        {
          "output_type": "stream",
          "name": "stdout",
          "text": [
            "P paprika synced is created!\n"
          ]
        },
        {
          "output_type": "execute_result",
          "data": {
            "text/plain": [
              "'P paprika synced/P paprika synced.mp4'"
            ],
            "application/vnd.google.colaboratory.intrinsic+json": {
              "type": "string"
            }
          },
          "metadata": {},
          "execution_count": 28
        }
      ]
    },
    {
      "cell_type": "code",
      "source": [
        "#@title\n",
        "print(npathOut)"
      ],
      "metadata": {
        "colab": {
          "base_uri": "https://localhost:8080/"
        },
        "id": "HHBAXtgeeFU2",
        "outputId": "1abe38e5-dec1-48bb-a0ae-9565d5ec2d5c",
        "cellView": "form"
      },
      "execution_count": null,
      "outputs": [
        {
          "output_type": "stream",
          "name": "stdout",
          "text": [
            "/content/drive/My Drive/Datasets/Cartoonized/P paprika synced.mp4\n"
          ]
        }
      ]
    },
    {
      "cell_type": "code",
      "execution_count": null,
      "metadata": {
        "id": "1wysVHxoN54f",
        "cellView": "form"
      },
      "outputs": [],
      "source": [
        "#@title\n",
        "%cd /content/ \n",
        "!git clone https://github.com/hzwer/arXiv2020-RIFE\n",
        "!mkdir /content/arXiv2020-RIFE/train_log\n",
        "%cd /content/arXiv2020-RIFE/train_log\n",
        "!gdown --id 1APIzVeI-4ZZCEuIRE1m6WYfSCaOsi_7_\n",
        "!7z e RIFE_trained_model_v3.6.zip\n",
        "%cd /content/arXiv2020-RIFE/\n",
        "!gdown --id 1i3xlKb7ax7Y70khcTcuePi6E7crO_dFc\n",
        "!pip3 install -r requirements.txt\n",
        "clear_output()"
      ]
    },
    {
      "cell_type": "markdown",
      "metadata": {
        "id": "rirngW5uRMdg"
      },
      "source": [
        "Please upload your video to content/arXiv2020-RIFE/video.mp4, or use our demo video."
      ]
    },
    {
      "cell_type": "code",
      "execution_count": null,
      "metadata": {
        "id": "dnLn4aHHPzN3"
      },
      "outputs": [],
      "source": [
        "print(pathrife)\n",
        "!python3 inference_video.py --exp=2 --video='/content/mk/P paprika synced.mp4' --output='/content/drive/MyDrive/Datasets/ScaledCart/'"
      ]
    },
    {
      "cell_type": "markdown",
      "metadata": {
        "id": "77KK6lxHgJhf"
      },
      "source": [
        "Our demo.mp4 is 25FPS. You can adjust the parameters for your own perference.\n",
        "For example: \n",
        "--fps=60 --exp=1 --video=mydemo.avi --png"
      ]
    },
    {
      "cell_type": "code",
      "execution_count": null,
      "metadata": {
        "cellView": "code",
        "id": "0zIBbVE3UfUD"
      },
      "outputs": [],
      "source": [
        "from IPython.display import display, Image\n",
        "import moviepy.editor as mpy\n",
        "display(mpy.ipython_display('/content/mk/20211227_191155 paprika synced_4X_120fps.mp4', height=256, max_duration=100.))"
      ]
    },
    {
      "cell_type": "code",
      "execution_count": null,
      "metadata": {
        "id": "tWkJCNgP3zXA"
      },
      "outputs": [],
      "source": [
        "!python3 inference_img.py --img demo/I0_0.png demo/I0_1.png\n",
        "ffmpeg -r 10 -f image2 -i output/img%d.png -s 448x256 -vf \"split[s0][s1];[s0]palettegen=stats_mode=single[p];[s1][p]paletteuse=new=1\" output/slomo.gif\n",
        "# Image interpolation"
      ]
    }
  ]
}
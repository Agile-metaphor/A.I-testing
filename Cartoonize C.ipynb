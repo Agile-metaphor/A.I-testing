{
  "cells": [
    {
      "cell_type": "markdown",
      "metadata": {
        "id": "view-in-github",
        "colab_type": "text"
      },
      "source": [
        "<a href=\"https://colab.research.google.com/github/daddyboy77/A.I-testing/blob/master/Cartoonize%20C.ipynb\" target=\"_parent\"><img src=\"https://colab.research.google.com/assets/colab-badge.svg\" alt=\"Open In Colab\"/></a>"
      ]
    },
    {
      "cell_type": "code",
      "execution_count": 1,
      "metadata": {
        "colab": {
          "base_uri": "https://localhost:8080/"
        },
        "id": "KVK0kiqcUEh8",
        "outputId": "3d4475b4-6e13-424f-a37b-edce081711fd"
      },
      "outputs": [
        {
          "output_type": "stream",
          "name": "stdout",
          "text": [
            "2.8.2\n"
          ]
        }
      ],
      "source": [
        "#@title Setup\n",
        "!pip install imageio==2.4.1\n",
        "!pip uninstall PIL\n",
        "!pip uninstall Pillow\n",
        "!pip install Pillow\n",
        "import os\n",
        "repo = \"CartoonGan-tensorflow\"\n",
        "!git clone https://github.com/mnicnc404/CartoonGan-tensorflow.git\n",
        "os.chdir(os.path.join(repo))\n",
        "\n",
        "from IPython.display import clear_output, display, Image\n",
        "!pip3 install tensorflow-gpu==2.2.0-alpha0\n",
        "!git clone https://www.github.com/keras-team/keras-contrib.git \\\n",
        "    && cd keras-contrib \\\n",
        "    && python convert_to_tf_keras.py \\\n",
        "    && USE_TF_KERAS=1 python setup.py install\n",
        "\n",
        "!pip3 install matlab\n",
        "!pip install moviepy==1.0.2\n",
        "clear_output()\n",
        "import tensorflow as tf\n",
        "print(tf.__version__)"
      ]
    },
    {
      "cell_type": "code",
      "execution_count": 2,
      "metadata": {
        "id": "7erw9Jt-n4wm",
        "cellView": "form"
      },
      "outputs": [],
      "source": [
        "#@title Link drive\n",
        "#@markdown Connect google drive, folders called Real amd Cartoonized and sub-folders would be created upload vidoes you want to animate to the Real folder then proceed. The animated photos show up in the cartoonized folder.\n",
        "from google.colab import drive\n",
        "drive.mount('/content/drive')\n",
        "clear_output()\n",
        "if not os.path.exists(\"/content/drive/MyDrive/Real/\"):\n",
        " os.mkdir(\"/content/drive/MyDrive/Real/\")\n",
        "if not os.path.exists(\"/content/drive/MyDrive/Cartoonized/\"):\n",
        " os.mkdir(\"/content/drive/MyDrive/Cartoonized/\")\n",
        "if not os.path.exists(\"/content/drive/MyDrive/Cartoonized/comparison/\"):\n",
        " os.mkdir(\"/content/drive/MyDrive/Cartoonized/comparison/\")"
      ]
    },
    {
      "cell_type": "code",
      "source": [
        "#@title Use to see current files in 'Real Folder\n",
        "print('Current files in the \"Real\" folder: ')\n",
        "!ls \"/content/drive/MyDrive/Real/\""
      ],
      "metadata": {
        "colab": {
          "base_uri": "https://localhost:8080/"
        },
        "cellView": "form",
        "id": "VB1TicUnXJIv",
        "outputId": "21a09f7b-cd41-4be5-bfc2-9f32b63950db"
      },
      "execution_count": 3,
      "outputs": [
        {
          "output_type": "stream",
          "name": "stdout",
          "text": [
            "Current files in the \"Real\" folder: \n",
            " Alt.mp4\t     Fashion.mp4     Pastor_Paul.mkv\n",
            " Comedian.mp4\t     fooet.mp4\t     tok.mp4\n",
            "'download (4).mp4'   MirrorVid.mp4   Whatelikeis.mp4\n"
          ]
        }
      ]
    },
    {
      "cell_type": "code",
      "execution_count": 19,
      "metadata": {
        "colab": {
          "base_uri": "https://localhost:8080/"
        },
        "id": "miXHc1MkA-7P",
        "outputId": "3f17cd28-1a66-4fe4-9a7c-f94becff8e09",
        "cellView": "form"
      },
      "outputs": [
        {
          "output_type": "stream",
          "name": "stdout",
          "text": [
            "name: fooet\n",
            "vidname: fooet.mp4\n",
            "Test:/content/fooet.mp4/\n",
            "Frames per second using video.get(cv2.CAP_PROP_FPS) : 14.012039975089706\n",
            "14.012039975089706\n",
            "42\n",
            "Extracting frames from fooet.mp4 |####################################################################################################| 100.000% CompleteMoviePy - Writing audio in /content/sound/fooet.mp3\n"
          ]
        },
        {
          "output_type": "stream",
          "name": "stderr",
          "text": [
            "                                                       "
          ]
        },
        {
          "output_type": "stream",
          "name": "stdout",
          "text": [
            "MoviePy - Done.\n"
          ]
        },
        {
          "output_type": "stream",
          "name": "stderr",
          "text": [
            "\r"
          ]
        }
      ],
      "source": [
        "#@title Process video\n",
        "videoName = \"fooet\" #@param {type: \"string\"}\n",
        "Video_filetype = \".mp4\" #@param [\".mp4\", \".mkv\"]\n",
        "vdirectory = \"/content/drive/MyDrive/Real/\" + videoName + Video_filetype\n",
        "vidname = vdirectory.split(\"/\")[-1]\n",
        "name = '.'.join(vidname.split(\".\")[:-1])\n",
        "print(\"name: \" + name)\n",
        "print(\"vidname: \" + vidname)\n",
        "print(\"Test:\" + \"/content/\" + vidname + \"/\")\n",
        " \n",
        "#@title Analyze\n",
        "import cv2\n",
        "def count_frames(path, override=False):\n",
        "    # grab a pointer to the video file and initialize the total\n",
        "    # number of frames read\n",
        "    video = cv2.VideoCapture(path)\n",
        "    total = 0\n",
        "    # if the override flag is passed in, revert to the manual\n",
        "    # method of counting frames\n",
        "    if override:\n",
        "        total = count_frames_manual(video)\n",
        "    # otherwise, let's try the fast way first\n",
        "    else:\n",
        "        # lets try to determine the number of frames in a video\n",
        "        # via video properties; this method can be very buggy\n",
        "        # and might throw an error based on your OpenCV version\n",
        "        # or may fail entirely based on your which video codecs\n",
        "        # you have installed\n",
        "        try:\n",
        "            # check if we are using OpenCV 3\n",
        "            # otherwise, we are using OpenCV 2.4\n",
        "            total = int(video.get(cv2.cv.CV_CAP_PROP_FRAME_COUNT))\n",
        "        # uh-oh, we got an error -- revert to counting manually\n",
        "        except:\n",
        "            total = count_frames_manual(video)\n",
        "    # release the video file pointer\n",
        "    video.release()\n",
        "    # return the total number of frames in the video\n",
        "    return total\n",
        "def count_frames_manual(video):\n",
        "    # initialize the total number of frames read\n",
        "    total = 0\n",
        "    # loop over the frames of the video\n",
        "    while True:\n",
        "        # grab the current frame\n",
        "        (grabbed, frame) = video.read()\n",
        "     \n",
        "        # check to see if we have reached the end of the\n",
        "        # video\n",
        "        if not grabbed:\n",
        "            break\n",
        "        # increment the total number of frames read\n",
        "        total += 1\n",
        "    # return the total number of frames in the video file\n",
        "    return total\n",
        "if __name__ == '__main__' :\n",
        "    video = cv2.VideoCapture(vdirectory);\n",
        "    # Find OpenCV version\n",
        "    (major_ver, minor_ver, subminor_ver) = (cv2.__version__).split('.')\n",
        "    if int(major_ver)  < 3 :\n",
        "        fps = video.get(cv2.cv.CV_CAP_PROP_FPS)\n",
        "        print (\"Frames per second using video.get(cv2.cv.CV_CAP_PROP_FPS): {0}\".format(fps))\n",
        "    else :\n",
        "        fps = video.get(cv2.CAP_PROP_FPS)\n",
        "        print (\"Frames per second using video.get(cv2.CAP_PROP_FPS) : {0}\".format(fps))\n",
        "    video.release()\n",
        "print(fps)\n",
        "print(count_frames(vdirectory))\n",
        "\n",
        "\n",
        "from concurrent.futures import ProcessPoolExecutor, as_completed\n",
        "import cv2\n",
        "import multiprocessing\n",
        "import os\n",
        "import sys\n",
        " \n",
        " \n",
        "def print_progress(iteration, total, prefix='', suffix='', decimals=3, bar_length=100):\n",
        "    \"\"\"\n",
        "    Call in a loop to create standard out progress bar\n",
        "    :param iteration: current iteration\n",
        "    :param total: total iterations\n",
        "    :param prefix: prefix string\n",
        "    :param suffix: suffix string\n",
        "    :param decimals: positive number of decimals in percent complete\n",
        "    :param bar_length: character length of bar\n",
        "    :return: None\n",
        "    \"\"\"\n",
        " \n",
        "    format_str = \"{0:.\" + str(decimals) + \"f}\"  # format the % done number string\n",
        "    percents = format_str.format(100 * (iteration / float(total)))  # calculate the % done\n",
        "    filled_length = int(round(bar_length * iteration / float(total)))  # calculate the filled bar length\n",
        "    bar = '#' * filled_length + '-' * (bar_length - filled_length)  # generate the bar string\n",
        "    sys.stdout.write('\\r%s |%s| %s%s %s' % (prefix, bar, percents, '%', suffix)),  # write out the bar\n",
        "    sys.stdout.flush()  # flush to stdout\n",
        " \n",
        " \n",
        "def extract_frames(video_path, frames_dir, overwrite=False, start=-1, end=-1, every=1):\n",
        "    \"\"\"\n",
        "    Extract frames from a video using OpenCVs VideoCapture\n",
        "    :param video_path: path of the video\n",
        "    :param frames_dir: the directory to save the frames\n",
        "    :param overwrite: to overwrite frames that already exist?\n",
        "    :param start: start frame\n",
        "    :param end: end frame\n",
        "    :param every: frame spacing\n",
        "    :return: count of images saved\n",
        "    \"\"\"\n",
        " \n",
        "    video_path = os.path.normpath(video_path)  # make the paths OS (Windows) compatible\n",
        "    frames_dir = os.path.normpath(frames_dir)  # make the paths OS (Windows) compatible\n",
        " \n",
        "    video_dir, video_filename = os.path.split(video_path)  # get the video path and filename from the path\n",
        " \n",
        "    assert os.path.exists(video_path)  # assert the video file exists\n",
        " \n",
        "    capture = cv2.VideoCapture(video_path)  # open the video using OpenCV\n",
        " \n",
        "    if start < 0:  # if start isn't specified lets assume 0\n",
        "        start = 0\n",
        "    if end < 0:  # if end isn't specified assume the end of the video\n",
        "        end = int(capture.get(cv2.CAP_PROP_FRAME_COUNT))\n",
        " \n",
        "    capture.set(1, start)  # set the starting frame of the capture\n",
        "    frame = start  # keep track of which frame we are up to, starting from start\n",
        "    while_safety = 0  # a safety counter to ensure we don't enter an infinite while loop (hopefully we won't need it)\n",
        "    saved_count = 0  # a count of how many frames we have saved\n",
        " \n",
        "    while frame < end:  # lets loop through the frames until the end\n",
        " \n",
        "        _, image = capture.read()  # read an image from the capture\n",
        " \n",
        "        if while_safety > 500:  # break the while if our safety maxs out at 500\n",
        "            break\n",
        " \n",
        "        # sometimes OpenCV reads None's during a video, in which case we want to just skip\n",
        "        if image is None:  # if we get a bad return flag or the image we read is None, lets not save\n",
        "            while_safety += 1  # add 1 to our while safety, since we skip before incrementing our frame variable\n",
        "            continue  # skip\n",
        " \n",
        "        if frame % every == 0:  # if this is a frame we want to write out based on the 'every' argument\n",
        "            while_safety = 0  # reset the safety count\n",
        "            save_path = os.path.join(frames_dir, video_filename, \"ani.{:010d}.png\".format(frame))  # create the save path\n",
        "            if not os.path.exists(save_path) or overwrite:  # if it doesn't exist or we want to overwrite anyways\n",
        "                cv2.imwrite(save_path, image)  # save the extracted image\n",
        "                saved_count += 1  # increment our counter by one\n",
        " \n",
        "        frame += 1  # increment our frame count\n",
        " \n",
        "    capture.release()  # after the while has finished close the capture\n",
        " \n",
        "    return saved_count  # and return the count of the images we saved\n",
        " \n",
        " \n",
        "def video_to_frames(video_path, frames_dir, overwrite=False, every=1, chunk_size=1000):\n",
        "    \"\"\"\n",
        "    Extracts the frames from a video using multiprocessing\n",
        "    :param video_path: path to the video\n",
        "    :param frames_dir: directory to save the frames\n",
        "    :param overwrite: overwrite frames if they exist?\n",
        "    :param every: extract every this many frames\n",
        "    :param chunk_size: how many frames to split into chunks (one chunk per cpu core process)\n",
        "    :return: path to the directory where the frames were saved, or None if fails\n",
        "    \"\"\"\n",
        " \n",
        "    video_path = os.path.normpath(video_path)  # make the paths OS (Windows) compatible\n",
        "    frames_dir = os.path.normpath(frames_dir)  # make the paths OS (Windows) compatible\n",
        " \n",
        "    video_dir, video_filename = os.path.split(video_path)  # get the video path and filename from the path\n",
        " \n",
        "    # make directory to save frames, its a sub dir in the frames_dir with the video name\n",
        "    os.makedirs(os.path.join(frames_dir, video_filename), exist_ok=True)\n",
        " \n",
        "    capture = cv2.VideoCapture(video_path)  # load the video\n",
        "    total = int(capture.get(cv2.CAP_PROP_FRAME_COUNT))  # get its total frame count\n",
        "    capture.release()  # release the capture straight away\n",
        " \n",
        "    if total < 1:  # if video has no frames, might be and opencv error\n",
        "        print(\"Video has no frames. Check your OpenCV + ffmpeg installation, can't read videos!!!\\n\"\n",
        "              \"You may need to install OpenCV by source not pip\")\n",
        "        return None  # return None\n",
        " \n",
        "    frame_chunks = [[i, i+chunk_size] for i in range(0, total, chunk_size)]  # split the frames into chunk lists\n",
        "    frame_chunks[-1][-1] = min(frame_chunks[-1][-1], total-1)  # make sure last chunk has correct end frame\n",
        " \n",
        "    prefix_str = \"Extracting frames from {}\".format(video_filename)  # a prefix string to be printed in progress bar\n",
        " \n",
        "    # execute across multiple cpu cores to speed up processing, get the count automatically\n",
        "    with ProcessPoolExecutor(max_workers=multiprocessing.cpu_count()) as executor:\n",
        " \n",
        "        futures = [executor.submit(extract_frames, video_path, frames_dir, overwrite, f[0], f[1], every)\n",
        "                   for f in frame_chunks]  # submit the processes: extract_frames(...)\n",
        " \n",
        "        for i, f in enumerate(as_completed(futures)):  # as each process completes\n",
        "            print_progress(i, len(frame_chunks)-1, prefix=prefix_str, suffix='Complete')  # print it's progress\n",
        " \n",
        "    return os.path.join(frames_dir, video_filename)  # when done return the directory containing the frames\n",
        " \n",
        "Chunk_Slider = 25 #@param {type:\"slider\", min:0, max:1000, step:25}\n",
        "Comparison = False #@param {type:\"boolean\"}\n",
        "#@markdown Just the name of the video without any extra spaces at the end, no need to add mp4\n",
        "#@markdown \n",
        "\n",
        "#@markdown Comparison means it'll put the real video side by side with the fake or something like that\n",
        "if __name__ == '__main__':\n",
        "    # test it\n",
        "    video_to_frames(video_path=vdirectory, frames_dir=\"/content/\", overwrite=False, every=1, chunk_size=Chunk_Slider)\n",
        "from moviepy.editor import *\n",
        "if not os.path.exists(\"/content/sound/\"):\n",
        " os.mkdir(\"/content/sound/\")\n",
        "\n",
        "video = VideoFileClip(vdirectory) \n",
        "audio = video.audio \n",
        "audioname = \"/content/sound/\" + name + \".mp3\"\n",
        "# if not os.path.exists(audioname):\n",
        "#  os.mkdir(audioname)\n",
        "audio.write_audiofile(audioname)\n",
        "#lear_output()"
      ]
    },
    {
      "cell_type": "code",
      "execution_count": null,
      "metadata": {
        "cellView": "form",
        "id": "3CqGjp_L5Aqe"
      },
      "outputs": [],
      "source": [
        "Comparison = False #@param {type:\"boolean\"}"
      ]
    },
    {
      "cell_type": "code",
      "execution_count": null,
      "metadata": {
        "cellView": "form",
        "id": "FGrQAIPSTt2K"
      },
      "outputs": [],
      "source": [
        "#@title Help\n",
        "!python3 cartoonize.py --help"
      ]
    },
    {
      "cell_type": "code",
      "execution_count": 20,
      "metadata": {
        "id": "2ll4mhtUMecK"
      },
      "outputs": [],
      "source": [
        "#@title Animation style\n",
        "import math\n",
        "styles = \"AnimeGan2\" #@param [\"shinkai\", \"hayao\", \"hosoda\", \"paprika\", \"AnimeGan2\"]\n",
        "Outpudir = \"/content/\" + videoName\n",
        "Inputdir = Outpudir + Video_filetype\n",
        "sn = \"/content/\" + styles\n",
        "rfpsl = math.floor(fps)"
      ]
    },
    {
      "cell_type": "code",
      "source": [
        "from io import BytesIO\n",
        "import torch\n",
        "from PIL import Image\n",
        "\n",
        "import ipywidgets as widgets\n",
        "import IPython.display as display\n",
        "from google.colab import files\n",
        "\n",
        "device = \"cuda\" if torch.cuda.is_available() else \"cpu\"\n",
        "model = torch.hub.load(\"bryandlee/animegan2-pytorch:main\", \"generator\", device=device).eval()\n",
        "face2paint = torch.hub.load(\"bryandlee/animegan2-pytorch:main\", \"face2paint\", device=device)\n",
        "image_format = \"png\" \n",
        "\n",
        "if not os.path.exists(Outpudir + \"/\" + styles + \"/\"):\n",
        "  os.mkdir(Outpudir + \"/\" + styles + \"/\")\n",
        "# import required module\n",
        "\n",
        "# assign directory\n",
        "# directory = '/content/Alt.mp4/'\n",
        "\n",
        "# iterate over files in\n",
        "# that directory\n",
        "for filename in os.listdir(Inputdir):\n",
        "  f = os.path.join(Inputdir, filename)\n",
        "# checking if it is a file\n",
        "  if os.path.isfile(f):\n",
        "    img = Image.open(f).convert(\"RGB\")\n",
        "    out = face2paint(model, img)\n",
        "    #print(Outpudir + \"/\" + styles + \"/\" + filename)\n",
        "    out.save(Outpudir + \"/\" + styles + \"/\" + filename)\n",
        "clear_output()"
      ],
      "metadata": {
        "id": "zU66EiGX63FR"
      },
      "execution_count": null,
      "outputs": []
    },
    {
      "cell_type": "code",
      "execution_count": 32,
      "metadata": {
        "id": "gXZDnavco7WL"
      },
      "outputs": [],
      "source": [
        "#@title Cartoonize retain resolution (Higher quality but slow)\n",
        "!rm -rf {sn}\n",
        "!rm -rf \"/content/comparison\"\n",
        "small = False\n",
        "import os\n",
        "from io import BytesIO\n",
        "import torch\n",
        "from PIL import Image\n",
        "import ipywidgets as widgets\n",
        "import IPython.display as display\n",
        "from google.colab import files\n",
        "\n",
        "device = \"cuda\" if torch.cuda.is_available() else \"cpu\"\n",
        "model = torch.hub.load(\"bryandlee/animegan2-pytorch:main\", \"generator\", device=device).eval()\n",
        "face2paint = torch.hub.load(\"bryandlee/animegan2-pytorch:main\", \"face2paint\", device=device)\n",
        "image_format = \"png\" \n",
        "\n",
        "if(styles != \"AnimeGan2\"):\n",
        "  if(Comparison == True):\n",
        "    !python cartoonize.py \\\n",
        "        --styles {styles} \\\n",
        "        --batch_size {rfpsl} \\\n",
        "        --comparison_view horizontal \\\n",
        "        --input_dir {Inputdir} \\\n",
        "        --keep_original_size \\\n",
        "        --output_dir {Outpudir}\n",
        "  else:\n",
        "      !python cartoonize.py \\\n",
        "        --styles {styles} \\\n",
        "        --batch_size {rfpsl} \\\n",
        "        --input_dir {Inputdir} \\\n",
        "        --keep_original_size \\\n",
        "        --output_dir {Outpudir}\n",
        "else:\n",
        "  if not os.path.exists(Outpudir + \"/\" + styles + \"/\"):\n",
        "    os.mkdir(Outpudir + \"/\")\n",
        "    os.mkdir(Outpudir + \"/\" + styles + \"/\")\n",
        "  # import required module\n",
        "\n",
        "  # assign directory\n",
        "  # directory = '/content/Alt.mp4/'\n",
        "\n",
        "  # iterate over files in\n",
        "  # that directory\n",
        "  for filename in os.listdir(Inputdir):\n",
        "    f = os.path.join(Inputdir, filename)\n",
        "    print('Processing image ', f, ' of ', len(os.listdir(Inputdir)))\n",
        "  # checking if it is a file\n",
        "    if os.path.isfile(f):\n",
        "      img = Image.open(f).convert(\"RGB\")\n",
        "      out = face2paint(model, img)\n",
        "      print(Outpudir + \"/\" + styles + \"/\" + filename)\n",
        "      out.save(Outpudir + \"/\" + styles + \"/\" + filename)\n",
        "  clear_output()\n",
        "#clear_output()"
      ]
    },
    {
      "cell_type": "code",
      "execution_count": null,
      "metadata": {
        "id": "PgmSYO8J657-"
      },
      "outputs": [],
      "source": [
        "#@title Cartoonize resize resolution (Lower quality but faster)\n",
        "!rm -rf {sn}\n",
        "small = True\n",
        "!rm -rf \"/content/comparison\"\n",
        "if(Comparison == True):\n",
        "  !python3 cartoonize.py \\\n",
        "      --styles {styles} \\\n",
        "      --batch_size {rfpsl} \\\n",
        "      --comparison_view horizontal \\\n",
        "      --input_dir {Inputdir} \\\n",
        "      --output_dir \"/content/\"\n",
        "else:\n",
        "    !python3 cartoonize.py \\\n",
        "      --styles {styles} \\\n",
        "      --batch_size {rfpsl} \\\n",
        "      --input_dir {Inputdir} \\\n",
        "      --output_dir \"/content/\""
      ]
    },
    {
      "cell_type": "code",
      "source": [
        "#@title Download folder of animated images\n",
        "#@markdown You could import the images as an image sequence to be imported into animation software such as opentoonz for modification.\n",
        "!zip -r {videoName} {Outpudir}\n",
        "from google.colab import files\n",
        "videohezip = videoName + \".zip\"\n",
        "clear_output()\n",
        "files.download(videohezip)"
      ],
      "metadata": {
        "cellView": "form",
        "id": "TEemkK1SZUIB",
        "colab": {
          "base_uri": "https://localhost:8080/",
          "height": 17
        },
        "outputId": "5e77fdfc-cc75-4202-a7ba-c260e05a3613"
      },
      "execution_count": 33,
      "outputs": [
        {
          "output_type": "display_data",
          "data": {
            "text/plain": [
              "<IPython.core.display.Javascript object>"
            ],
            "application/javascript": [
              "\n",
              "    async function download(id, filename, size) {\n",
              "      if (!google.colab.kernel.accessAllowed) {\n",
              "        return;\n",
              "      }\n",
              "      const div = document.createElement('div');\n",
              "      const label = document.createElement('label');\n",
              "      label.textContent = `Downloading \"${filename}\": `;\n",
              "      div.appendChild(label);\n",
              "      const progress = document.createElement('progress');\n",
              "      progress.max = size;\n",
              "      div.appendChild(progress);\n",
              "      document.body.appendChild(div);\n",
              "\n",
              "      const buffers = [];\n",
              "      let downloaded = 0;\n",
              "\n",
              "      const channel = await google.colab.kernel.comms.open(id);\n",
              "      // Send a message to notify the kernel that we're ready.\n",
              "      channel.send({})\n",
              "\n",
              "      for await (const message of channel.messages) {\n",
              "        // Send a message to notify the kernel that we're ready.\n",
              "        channel.send({})\n",
              "        if (message.buffers) {\n",
              "          for (const buffer of message.buffers) {\n",
              "            buffers.push(buffer);\n",
              "            downloaded += buffer.byteLength;\n",
              "            progress.value = downloaded;\n",
              "          }\n",
              "        }\n",
              "      }\n",
              "      const blob = new Blob(buffers, {type: 'application/binary'});\n",
              "      const a = document.createElement('a');\n",
              "      a.href = window.URL.createObjectURL(blob);\n",
              "      a.download = filename;\n",
              "      div.appendChild(a);\n",
              "      a.click();\n",
              "      div.remove();\n",
              "    }\n",
              "  "
            ]
          },
          "metadata": {}
        },
        {
          "output_type": "display_data",
          "data": {
            "text/plain": [
              "<IPython.core.display.Javascript object>"
            ],
            "application/javascript": [
              "download(\"download_3946c31d-21ca-46ab-beea-17c00bef9754\", \"fooet.zip\", 12276439)"
            ]
          },
          "metadata": {}
        }
      ]
    },
    {
      "cell_type": "code",
      "execution_count": null,
      "metadata": {
        "id": "VG1pe72Eapf-",
        "cellView": "form"
      },
      "outputs": [],
      "source": [
        "#@title For downloading folders\n",
        "Folder_To_Download = \"Comedian.mp4\" #@param {type: \"string\"}\n",
        "dfold = \"/content/\" + Folder_To_Download\n",
        "zipname = \"/content/\" + Folder_To_Download +\".zip\"\n",
        "!zip -r {zipname} {dfold}\n",
        "from google.colab import files\n",
        "files.download(zipname)"
      ]
    },
    {
      "cell_type": "code",
      "source": [
        "small = False"
      ],
      "metadata": {
        "id": "J6ma_o6tW5cV"
      },
      "execution_count": 13,
      "outputs": []
    },
    {
      "cell_type": "code",
      "source": [
        "from IPython.display import clear_output, display, Image"
      ],
      "metadata": {
        "id": "UahmZxp4XDsa"
      },
      "execution_count": 15,
      "outputs": []
    },
    {
      "cell_type": "code",
      "execution_count": 34,
      "metadata": {
        "cellView": "form",
        "id": "LIjTmUpXhbwf",
        "colab": {
          "base_uri": "https://localhost:8080/"
        },
        "outputId": "a220b3eb-9ada-4236-9477-02b3129a381a"
      },
      "outputs": [
        {
          "output_type": "stream",
          "name": "stdout",
          "text": [
            "Moviepy - Building video /content/drive/MyDrive/Cartoonized/fooet AnimeGan2 synced.mp4.\n",
            "MoviePy - Writing audio in fooet AnimeGan2 syncedTEMP_MPY_wvf_snd.mp3\n"
          ]
        },
        {
          "output_type": "stream",
          "name": "stderr",
          "text": [
            "                                                       "
          ]
        },
        {
          "output_type": "stream",
          "name": "stdout",
          "text": [
            "MoviePy - Done.\n",
            "Moviepy - Writing video /content/drive/MyDrive/Cartoonized/fooet AnimeGan2 synced.mp4\n",
            "\n"
          ]
        },
        {
          "output_type": "stream",
          "name": "stderr",
          "text": [
            "t:  69%|██████▉   | 29/42 [00:00<00:00, 289.24it/s, now=None]WARNING:py.warnings:/usr/local/lib/python3.7/dist-packages/moviepy/video/io/ffmpeg_reader.py:130: UserWarning: Warning: in file /content/drive/MyDrive/Cartoonized/fooettmpAnimeGan2 synced.mp4, 786432 bytes wanted but 0 bytes read,at frame 41/42, at time 2.93/2.93 sec. Using the last valid frame instead.\n",
            "  UserWarning)\n",
            "\n"
          ]
        },
        {
          "output_type": "stream",
          "name": "stdout",
          "text": [
            "Moviepy - Done !\n",
            "Moviepy - video ready /content/drive/MyDrive/Cartoonized/fooet AnimeGan2 synced.mp4\n"
          ]
        }
      ],
      "source": [
        "#@title Compile animated video\n",
        "import cv2\n",
        "import numpy as np\n",
        "import os\n",
        "import random \n",
        "from os.path import isfile, join\n",
        "import shutil\n",
        " \n",
        "numberList = [1,2,3,4,5,6,7,8,9,10,11,12,13,14,15,16,17,18,19,20,21,22,23,24,25,26,27,28,29,30,31,32,33,34,35,36,37,38,39,40,41]\n",
        "entil = random.choice(numberList)\n",
        "\n",
        "if(small == True):\n",
        "  add = \" rough\"\n",
        "else:\n",
        "  add = \" synced\"\n",
        "def convert_frames_to_video(pathIn,pathOut,fps):\n",
        "    frame_array = []\n",
        "    files = [f for f in os.listdir(pathIn) if isfile(join(pathIn, f))]\n",
        " \n",
        "    #for sorting the file names properly\n",
        "    files.sort(key = lambda x: int(x[5:-4]))\n",
        " \n",
        "    for i in range(len(files)):\n",
        "        filename=pathIn + files[i]\n",
        "        #reading each files\n",
        "        img = cv2.imread(filename)\n",
        "        #print(img)\n",
        "        height, width, layers = img.shape\n",
        "        size = (width,height)\n",
        "        print(filename)\n",
        "        #inserting the frames into an image array\n",
        "        frame_array.append(img)\n",
        " \n",
        "    out = cv2.VideoWriter(pathOut,cv2.VideoWriter_fourcc(*'DIVX'), fps, size)\n",
        " \n",
        "    for i in range(len(frame_array)):\n",
        "        # writing to a image array\n",
        "        out.write(frame_array[i])\n",
        "    out.release()\n",
        "def main():\n",
        "    pathIn= Outpudir + \"/\" + styles + \"/\"\n",
        "    pathOut = \"/content/drive/MyDrive/Cartoonized/\" + name + \"tmp\" + styles + add + \".mp4\"\n",
        "    convert_frames_to_video(pathIn, pathOut, fps)\n",
        "\n",
        "if __name__==\"__main__\":\n",
        "    main()\n",
        "pathIn= Outpudir + \"/\" + styles + \"/\"\n",
        "pathOut = \"/content/drive/MyDrive/Cartoonized/\" + name + \"tmp\" + styles + add + \".mp4\"\n",
        "npathOut = \"/content/drive/MyDrive/Cartoonized/\" + name + \" \" + styles + add + \".mp4\"\n",
        "\n",
        "\n",
        "patht = \"/content/drive/MyDrive/Cartoonized/comparison/\" + name + \"tmp\" + styles + add + \" comparison\" + \".mp4\"\n",
        "npatht = \"/content/drive/MyDrive/Cartoonized/comparison/\" + name + \" \" + styles + add + \" comparison\" + \".mp4\"\n",
        "if(Comparison == True):\n",
        "   convert_frames_to_video(\"/content/comparison/\", patht, fps)\n",
        "\n",
        "clear_output()\n",
        "from moviepy.editor import *\n",
        "\n",
        "\n",
        "videoclip = VideoFileClip(pathOut)\n",
        "audioclip = AudioFileClip(audioname)\n",
        "new_audioclip = CompositeAudioClip([audioclip])\n",
        "videoclip.audio = new_audioclip\n",
        "videoclip.write_videofile(npathOut)\n",
        "\n",
        "\n",
        "delete_filepath = pathOut\n",
        "open(delete_filepath, 'w').close() #overwrite and make the file blank instead - ref: https://stackoverflow.com/a/4914288/3553367\n",
        "os.remove(delete_filepath)\n",
        "\n",
        "if(Comparison == True):\n",
        "  videoclipe = VideoFileClip(patht)\n",
        "  audioclipe = AudioFileClip(audioname)\n",
        "  new_audioclipe = CompositeAudioClip([audioclipe])\n",
        "  videoclipe.audio = new_audioclipe\n",
        "  videoclipe.write_videofile(npatht)\n",
        "  delete_filepathd = patht\n",
        "  open(delete_filepathd, 'w').close() \n",
        "  os.remove(delete_filepathd)\n",
        "\n"
      ]
    },
    {
      "cell_type": "code",
      "source": [
        "#@title Download animated video\n",
        "print(npatht)\n",
        "if os.path.exists(npathOut):\n",
        "  files.download(npathOut)\n",
        "if os.path.exists(npatht):\n",
        "  files.download(npatht)"
      ],
      "metadata": {
        "colab": {
          "base_uri": "https://localhost:8080/",
          "height": 34
        },
        "cellView": "form",
        "id": "RsVoCn14ahU9",
        "outputId": "6af94133-75d5-4400-e8bb-ed64700247a6"
      },
      "execution_count": 35,
      "outputs": [
        {
          "output_type": "stream",
          "name": "stdout",
          "text": [
            "/content/drive/MyDrive/Cartoonized/comparison/fooet AnimeGan2 synced comparison.mp4\n"
          ]
        },
        {
          "output_type": "display_data",
          "data": {
            "text/plain": [
              "<IPython.core.display.Javascript object>"
            ],
            "application/javascript": [
              "\n",
              "    async function download(id, filename, size) {\n",
              "      if (!google.colab.kernel.accessAllowed) {\n",
              "        return;\n",
              "      }\n",
              "      const div = document.createElement('div');\n",
              "      const label = document.createElement('label');\n",
              "      label.textContent = `Downloading \"${filename}\": `;\n",
              "      div.appendChild(label);\n",
              "      const progress = document.createElement('progress');\n",
              "      progress.max = size;\n",
              "      div.appendChild(progress);\n",
              "      document.body.appendChild(div);\n",
              "\n",
              "      const buffers = [];\n",
              "      let downloaded = 0;\n",
              "\n",
              "      const channel = await google.colab.kernel.comms.open(id);\n",
              "      // Send a message to notify the kernel that we're ready.\n",
              "      channel.send({})\n",
              "\n",
              "      for await (const message of channel.messages) {\n",
              "        // Send a message to notify the kernel that we're ready.\n",
              "        channel.send({})\n",
              "        if (message.buffers) {\n",
              "          for (const buffer of message.buffers) {\n",
              "            buffers.push(buffer);\n",
              "            downloaded += buffer.byteLength;\n",
              "            progress.value = downloaded;\n",
              "          }\n",
              "        }\n",
              "      }\n",
              "      const blob = new Blob(buffers, {type: 'application/binary'});\n",
              "      const a = document.createElement('a');\n",
              "      a.href = window.URL.createObjectURL(blob);\n",
              "      a.download = filename;\n",
              "      div.appendChild(a);\n",
              "      a.click();\n",
              "      div.remove();\n",
              "    }\n",
              "  "
            ]
          },
          "metadata": {}
        },
        {
          "output_type": "display_data",
          "data": {
            "text/plain": [
              "<IPython.core.display.Javascript object>"
            ],
            "application/javascript": [
              "download(\"download_fe5453d4-fb4a-4eaf-b371-cd65560dcb51\", \"fooet AnimeGan2 synced.mp4\", 479552)"
            ]
          },
          "metadata": {}
        }
      ]
    },
    {
      "cell_type": "code",
      "execution_count": null,
      "metadata": {
        "cellView": "form",
        "id": "SoEyweyC5zpp"
      },
      "outputs": [],
      "source": [
        "#@title Clear before new video\n",
        "!rm -rf \"/content/paprika\"\n",
        "!rm -rf \"/content/hosoda\"\n",
        "!rm -rf \"/content/hayao\"\n",
        "!rm -rf \"/content/shinkai\"\n",
        "!rm -rf \"/content/comparison\"\n",
        "!rm -rf {Inputdir}\n",
        "clear_output()"
      ]
    }
  ],
  "metadata": {
    "colab": {
      "collapsed_sections": [],
      "provenance": [],
      "include_colab_link": true
    },
    "kernelspec": {
      "display_name": "Python 3 (ipykernel)",
      "language": "python",
      "name": "python3"
    },
    "language_info": {
      "codemirror_mode": {
        "name": "ipython",
        "version": 3
      },
      "file_extension": ".py",
      "mimetype": "text/x-python",
      "name": "python",
      "nbconvert_exporter": "python",
      "pygments_lexer": "ipython3",
      "version": "3.8.10"
    },
    "accelerator": "GPU"
  },
  "nbformat": 4,
  "nbformat_minor": 0
}
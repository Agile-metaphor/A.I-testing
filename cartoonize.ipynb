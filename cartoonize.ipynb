{
  "nbformat": 4,
  "nbformat_minor": 0,
  "metadata": {
    "colab": {
      "name": "cartoonize.ipynb",
      "provenance": [],
      "collapsed_sections": [],
      "toc_visible": true,
      "include_colab_link": true
    },
    "kernelspec": {
      "name": "python3",
      "display_name": "Python 3"
    },
    "accelerator": "GPU"
  },
  "cells": [
    {
      "cell_type": "markdown",
      "metadata": {
        "id": "view-in-github",
        "colab_type": "text"
      },
      "source": [
        "<a href=\"https://colab.research.google.com/github/daddyboy77/A.I-testing/blob/master/cartoonize.ipynb\" target=\"_parent\"><img src=\"https://colab.research.google.com/assets/colab-badge.svg\" alt=\"Open In Colab\"/></a>"
      ]
    },
    {
      "cell_type": "markdown",
      "metadata": {
        "id": "5XyIr6bDKWSC",
        "colab_type": "text"
      },
      "source": [
        "<img src=\"https://github.com/mnicnc404/CartoonGan-tensorflow/blob/master/images/cover.gif?raw=true\" height=\"300px\">"
      ]
    },
    {
      "cell_type": "markdown",
      "metadata": {
        "id": "zop2YJ9K5MK1",
        "colab_type": "text"
      },
      "source": [
        "## Clone github  repo\n",
        "This repo contain the Python script that we will use to generate cartoon-style images."
      ]
    },
    {
      "cell_type": "code",
      "metadata": {
        "id": "7erw9Jt-n4wm",
        "colab_type": "code",
        "colab": {}
      },
      "source": [
        "from google.colab import drive\n",
        "drive.mount('/content/drive')\n",
        "clear_output()"
      ],
      "execution_count": null,
      "outputs": []
    },
    {
      "cell_type": "code",
      "metadata": {
        "id": "KVK0kiqcUEh8",
        "colab_type": "code",
        "colab": {}
      },
      "source": [
        "import os\n",
        "repo = \"CartoonGan-tensorflow\"\n",
        "!git clone https://github.com/mnicnc404/CartoonGan-tensorflow.git\n",
        "os.chdir(os.path.join(repo))\n",
        "\n",
        "from IPython.display import clear_output, display, Image\n",
        "!pip install tensorflow-gpu==2.2.0-alpha0\n",
        "!git clone https://www.github.com/keras-team/keras-contrib.git \\\n",
        "    && cd keras-contrib \\\n",
        "    && python convert_to_tf_keras.py \\\n",
        "    && USE_TF_KERAS=1 python setup.py install\n",
        "clear_output()\n",
        "import tensorflow as tf\n",
        "tf.__version__"
      ],
      "execution_count": null,
      "outputs": []
    },
    {
      "cell_type": "code",
      "metadata": {
        "id": "AVV2vmOFcfIR",
        "colab_type": "code",
        "colab": {}
      },
      "source": [
        "from IPython.display import clear_output, display, Image"
      ],
      "execution_count": 3,
      "outputs": []
    },
    {
      "cell_type": "code",
      "metadata": {
        "id": "FmjWkxR0aoQX",
        "colab_type": "code",
        "colab": {}
      },
      "source": [
        "!pip install tensorflow-gpu==2.2.0-alpha0\n",
        "!git clone https://www.github.com/keras-team/keras-contrib.git \\\n",
        "    && cd keras-contrib \\\n",
        "    && python convert_to_tf_keras.py \\\n",
        "    && USE_TF_KERAS=1 python setup.py install\n",
        "clear_output()"
      ],
      "execution_count": 4,
      "outputs": []
    },
    {
      "cell_type": "code",
      "metadata": {
        "id": "vFi-unAm5E91",
        "colab_type": "code",
        "colab": {
          "base_uri": "https://localhost:8080/",
          "height": 35
        },
        "outputId": "f6119c67-8cad-43c2-ce3e-f0939a5beb6e"
      },
      "source": [
        "import tensorflow as tf\n",
        "tf.__version__"
      ],
      "execution_count": 5,
      "outputs": [
        {
          "output_type": "execute_result",
          "data": {
            "application/vnd.google.colaboratory.intrinsic+json": {
              "type": "string"
            },
            "text/plain": [
              "'2.2.0'"
            ]
          },
          "metadata": {
            "tags": []
          },
          "execution_count": 5
        }
      ]
    },
    {
      "cell_type": "code",
      "metadata": {
        "id": "3iSssrSJCyOb",
        "colab_type": "code",
        "colab": {}
      },
      "source": [
        "!pip install matlab\n",
        "clear_output()"
      ],
      "execution_count": null,
      "outputs": []
    },
    {
      "cell_type": "code",
      "metadata": {
        "id": "miXHc1MkA-7P",
        "colab_type": "code",
        "cellView": "form",
        "colab": {
          "base_uri": "https://localhost:8080/",
          "height": 119
        },
        "outputId": "a0042cf6-3959-4b8a-93cb-a4fec286ad95"
      },
      "source": [
        "vdirectory = \"/content/drive/My Drive/Datasets/Ynot/SkatersNi.mp4\" #@param {type: \"string\"}\n",
        "vidname = vdirectory.split(\"/\")[-1]\n",
        "name = '.'.join(vidname.split(\".\")[:-1])\n",
        "print(\"name: \" + name)\n",
        "print(\"vidname: \" + vidname)\n",
        "print(\"Test:\" + \"/content/\" + vidname + \"/\")\n",
        "\n",
        "#@title Analyze\n",
        "import cv2\n",
        "def count_frames(path, override=False):\n",
        "\t# grab a pointer to the video file and initialize the total\n",
        "\t# number of frames read\n",
        "\tvideo = cv2.VideoCapture(path)\n",
        "\ttotal = 0\n",
        "\t# if the override flag is passed in, revert to the manual\n",
        "\t# method of counting frames\n",
        "\tif override:\n",
        "\t\ttotal = count_frames_manual(video)\n",
        "\t# otherwise, let's try the fast way first\n",
        "\telse:\n",
        "\t\t# lets try to determine the number of frames in a video\n",
        "\t\t# via video properties; this method can be very buggy\n",
        "\t\t# and might throw an error based on your OpenCV version\n",
        "\t\t# or may fail entirely based on your which video codecs\n",
        "\t\t# you have installed\n",
        "\t\ttry:\n",
        "\t\t\t# check if we are using OpenCV 3\n",
        "\t\t\t# otherwise, we are using OpenCV 2.4\n",
        "\t\t\ttotal = int(video.get(cv2.cv.CV_CAP_PROP_FRAME_COUNT))\n",
        "\t\t# uh-oh, we got an error -- revert to counting manually\n",
        "\t\texcept:\n",
        "\t\t\ttotal = count_frames_manual(video)\n",
        "\t# release the video file pointer\n",
        "\tvideo.release()\n",
        "\t# return the total number of frames in the video\n",
        "\treturn total\n",
        "def count_frames_manual(video):\n",
        "\t# initialize the total number of frames read\n",
        "\ttotal = 0\n",
        "\t# loop over the frames of the video\n",
        "\twhile True:\n",
        "\t\t# grab the current frame\n",
        "\t\t(grabbed, frame) = video.read()\n",
        "\t \n",
        "\t\t# check to see if we have reached the end of the\n",
        "\t\t# video\n",
        "\t\tif not grabbed:\n",
        "\t\t\tbreak\n",
        "\t\t# increment the total number of frames read\n",
        "\t\ttotal += 1\n",
        "\t# return the total number of frames in the video file\n",
        "\treturn total\n",
        "if __name__ == '__main__' :\n",
        "    video = cv2.VideoCapture(vdirectory);\n",
        "    # Find OpenCV version\n",
        "    (major_ver, minor_ver, subminor_ver) = (cv2.__version__).split('.')\n",
        "    if int(major_ver)  < 3 :\n",
        "        fps = video.get(cv2.cv.CV_CAP_PROP_FPS)\n",
        "        print (\"Frames per second using video.get(cv2.cv.CV_CAP_PROP_FPS): {0}\".format(fps))\n",
        "    else :\n",
        "        fps = video.get(cv2.CAP_PROP_FPS)\n",
        "        print (\"Frames per second using video.get(cv2.CAP_PROP_FPS) : {0}\".format(fps))\n",
        "    video.release()\n",
        "print(fps)\n",
        "count_frames(vdirectory)"
      ],
      "execution_count": 28,
      "outputs": [
        {
          "output_type": "stream",
          "text": [
            "name: SkatersNi\n",
            "vidname: SkatersNi.mp4\n",
            "Test:/content/SkatersNi.mp4/\n",
            "Frames per second using video.get(cv2.CAP_PROP_FPS) : 53.81008206330598\n",
            "53.81008206330598\n"
          ],
          "name": "stdout"
        },
        {
          "output_type": "execute_result",
          "data": {
            "text/plain": [
              "764"
            ]
          },
          "metadata": {
            "tags": []
          },
          "execution_count": 28
        }
      ]
    },
    {
      "cell_type": "code",
      "metadata": {
        "id": "ZVCbLpZXp6gf",
        "colab_type": "code",
        "cellView": "form",
        "colab": {
          "base_uri": "https://localhost:8080/",
          "height": 54
        },
        "outputId": "da2b493f-ee32-4a74-b395-e91526ec54cc"
      },
      "source": [
        "from concurrent.futures import ProcessPoolExecutor, as_completed\n",
        "import cv2\n",
        "import multiprocessing\n",
        "import os\n",
        "import sys\n",
        "\n",
        "\n",
        "def print_progress(iteration, total, prefix='', suffix='', decimals=3, bar_length=100):\n",
        "    \"\"\"\n",
        "    Call in a loop to create standard out progress bar\n",
        "    :param iteration: current iteration\n",
        "    :param total: total iterations\n",
        "    :param prefix: prefix string\n",
        "    :param suffix: suffix string\n",
        "    :param decimals: positive number of decimals in percent complete\n",
        "    :param bar_length: character length of bar\n",
        "    :return: None\n",
        "    \"\"\"\n",
        "\n",
        "    format_str = \"{0:.\" + str(decimals) + \"f}\"  # format the % done number string\n",
        "    percents = format_str.format(100 * (iteration / float(total)))  # calculate the % done\n",
        "    filled_length = int(round(bar_length * iteration / float(total)))  # calculate the filled bar length\n",
        "    bar = '#' * filled_length + '-' * (bar_length - filled_length)  # generate the bar string\n",
        "    sys.stdout.write('\\r%s |%s| %s%s %s' % (prefix, bar, percents, '%', suffix)),  # write out the bar\n",
        "    sys.stdout.flush()  # flush to stdout\n",
        "\n",
        "\n",
        "def extract_frames(video_path, frames_dir, overwrite=False, start=-1, end=-1, every=1):\n",
        "    \"\"\"\n",
        "    Extract frames from a video using OpenCVs VideoCapture\n",
        "    :param video_path: path of the video\n",
        "    :param frames_dir: the directory to save the frames\n",
        "    :param overwrite: to overwrite frames that already exist?\n",
        "    :param start: start frame\n",
        "    :param end: end frame\n",
        "    :param every: frame spacing\n",
        "    :return: count of images saved\n",
        "    \"\"\"\n",
        "\n",
        "    video_path = os.path.normpath(video_path)  # make the paths OS (Windows) compatible\n",
        "    frames_dir = os.path.normpath(frames_dir)  # make the paths OS (Windows) compatible\n",
        "\n",
        "    video_dir, video_filename = os.path.split(video_path)  # get the video path and filename from the path\n",
        "\n",
        "    assert os.path.exists(video_path)  # assert the video file exists\n",
        "\n",
        "    capture = cv2.VideoCapture(video_path)  # open the video using OpenCV\n",
        "\n",
        "    if start < 0:  # if start isn't specified lets assume 0\n",
        "        start = 0\n",
        "    if end < 0:  # if end isn't specified assume the end of the video\n",
        "        end = int(capture.get(cv2.CAP_PROP_FRAME_COUNT))\n",
        "\n",
        "    capture.set(1, start)  # set the starting frame of the capture\n",
        "    frame = start  # keep track of which frame we are up to, starting from start\n",
        "    while_safety = 0  # a safety counter to ensure we don't enter an infinite while loop (hopefully we won't need it)\n",
        "    saved_count = 0  # a count of how many frames we have saved\n",
        "\n",
        "    while frame < end:  # lets loop through the frames until the end\n",
        "\n",
        "        _, image = capture.read()  # read an image from the capture\n",
        "\n",
        "        if while_safety > 500:  # break the while if our safety maxs out at 500\n",
        "            break\n",
        "\n",
        "        # sometimes OpenCV reads None's during a video, in which case we want to just skip\n",
        "        if image is None:  # if we get a bad return flag or the image we read is None, lets not save\n",
        "            while_safety += 1  # add 1 to our while safety, since we skip before incrementing our frame variable\n",
        "            continue  # skip\n",
        "\n",
        "        if frame % every == 0:  # if this is a frame we want to write out based on the 'every' argument\n",
        "            while_safety = 0  # reset the safety count\n",
        "            save_path = os.path.join(frames_dir, video_filename, \"{:010d}.jpg\".format(frame))  # create the save path\n",
        "            if not os.path.exists(save_path) or overwrite:  # if it doesn't exist or we want to overwrite anyways\n",
        "                cv2.imwrite(save_path, image)  # save the extracted image\n",
        "                saved_count += 1  # increment our counter by one\n",
        "\n",
        "        frame += 1  # increment our frame count\n",
        "\n",
        "    capture.release()  # after the while has finished close the capture\n",
        "\n",
        "    return saved_count  # and return the count of the images we saved\n",
        "\n",
        "\n",
        "def video_to_frames(video_path, frames_dir, overwrite=False, every=1, chunk_size=1000):\n",
        "    \"\"\"\n",
        "    Extracts the frames from a video using multiprocessing\n",
        "    :param video_path: path to the video\n",
        "    :param frames_dir: directory to save the frames\n",
        "    :param overwrite: overwrite frames if they exist?\n",
        "    :param every: extract every this many frames\n",
        "    :param chunk_size: how many frames to split into chunks (one chunk per cpu core process)\n",
        "    :return: path to the directory where the frames were saved, or None if fails\n",
        "    \"\"\"\n",
        "\n",
        "    video_path = os.path.normpath(video_path)  # make the paths OS (Windows) compatible\n",
        "    frames_dir = os.path.normpath(frames_dir)  # make the paths OS (Windows) compatible\n",
        "\n",
        "    video_dir, video_filename = os.path.split(video_path)  # get the video path and filename from the path\n",
        "\n",
        "    # make directory to save frames, its a sub dir in the frames_dir with the video name\n",
        "    os.makedirs(os.path.join(frames_dir, video_filename), exist_ok=True)\n",
        "\n",
        "    capture = cv2.VideoCapture(video_path)  # load the video\n",
        "    total = int(capture.get(cv2.CAP_PROP_FRAME_COUNT))  # get its total frame count\n",
        "    capture.release()  # release the capture straight away\n",
        "\n",
        "    if total < 1:  # if video has no frames, might be and opencv error\n",
        "        print(\"Video has no frames. Check your OpenCV + ffmpeg installation, can't read videos!!!\\n\"\n",
        "              \"You may need to install OpenCV by source not pip\")\n",
        "        return None  # return None\n",
        "\n",
        "    frame_chunks = [[i, i+chunk_size] for i in range(0, total, chunk_size)]  # split the frames into chunk lists\n",
        "    frame_chunks[-1][-1] = min(frame_chunks[-1][-1], total-1)  # make sure last chunk has correct end frame\n",
        "\n",
        "    prefix_str = \"Extracting frames from {}\".format(video_filename)  # a prefix string to be printed in progress bar\n",
        "\n",
        "    # execute across multiple cpu cores to speed up processing, get the count automatically\n",
        "    with ProcessPoolExecutor(max_workers=multiprocessing.cpu_count()) as executor:\n",
        "\n",
        "        futures = [executor.submit(extract_frames, video_path, frames_dir, overwrite, f[0], f[1], every)\n",
        "                   for f in frame_chunks]  # submit the processes: extract_frames(...)\n",
        "\n",
        "        for i, f in enumerate(as_completed(futures)):  # as each process completes\n",
        "            print_progress(i, len(frame_chunks)-1, prefix=prefix_str, suffix='Complete')  # print it's progress\n",
        "\n",
        "    return os.path.join(frames_dir, video_filename)  # when done return the directory containing the frames\n",
        "\n",
        "Chunk_Slider = 500 #@param {type:\"slider\", min:50, max:1000, step:50}\n",
        "if __name__ == '__main__':\n",
        "    # test it\n",
        "    video_to_frames(video_path=vdirectory, frames_dir=\"/content/\", overwrite=False, every=1, chunk_size=Chunk_Slider) "
      ],
      "execution_count": 29,
      "outputs": [
        {
          "output_type": "stream",
          "text": [
            "Extracting frames from SkatersNi.mp4 |####################################################################################################| 100.000% Complete"
          ],
          "name": "stdout"
        }
      ]
    },
    {
      "cell_type": "code",
      "metadata": {
        "id": "FGrQAIPSTt2K",
        "colab_type": "code",
        "colab": {}
      },
      "source": [
        "!python cartoonize.py --help"
      ],
      "execution_count": null,
      "outputs": []
    },
    {
      "cell_type": "code",
      "metadata": {
        "colab_type": "code",
        "cellView": "form",
        "id": "2ll4mhtUMecK",
        "colab": {}
      },
      "source": [
        "styles = \"hayao\" #@param [\"shinkai\", \"hayao\", \"hosoda\", \"paprika\"]"
      ],
      "execution_count": 33,
      "outputs": []
    },
    {
      "cell_type": "code",
      "metadata": {
        "id": "gXZDnavco7WL",
        "colab_type": "code",
        "colab": {}
      },
      "source": [
        "!python cartoonize.py \\\n",
        "    --styles {styles} \\\n",
        "    --batch_size 1 \\\n",
        "    --comparison_view horizontal \\\n",
        "    --input_dir \"/content/SkatersNi.mp4\"  \\\n",
        "    --output_dir \"/content/\"\n",
        "clear_output()"
      ],
      "execution_count": 35,
      "outputs": []
    },
    {
      "cell_type": "code",
      "metadata": {
        "id": "LIjTmUpXhbwf",
        "colab_type": "code",
        "colab": {},
        "cellView": "form"
      },
      "source": [
        "#@title Compile\n",
        "import cv2\n",
        "import numpy as np\n",
        "import os\n",
        "import random \n",
        "from os.path import isfile, join\n",
        "\n",
        "numberList = [1,2,3,4,5,6,7,8,9,10,11,12,13,14,15,16,17,18,19,20,21,22,23,24,25,26,27,28,29,30,31,32,33,34,35,36,37,38,39,40]\n",
        "entil = random.choice(numberList)\n",
        "def convert_frames_to_video(pathIn,pathOut,fps):\n",
        "    frame_array = []\n",
        "    files = [f for f in os.listdir(pathIn) if isfile(join(pathIn, f))]\n",
        " \n",
        "    #for sorting the file names properly\n",
        "    files.sort(key = lambda x: int(x[5:-4]))\n",
        " \n",
        "    for i in range(len(files)):\n",
        "        filename=pathIn + files[i]\n",
        "        #reading each files\n",
        "        img = cv2.imread(filename)\n",
        "        #print(img)\n",
        "        height, width, layers = img.shape\n",
        "        size = (width,height)\n",
        "        print(filename)\n",
        "        #inserting the frames into an image array\n",
        "        frame_array.append(img)\n",
        " \n",
        "    out = cv2.VideoWriter(pathOut,cv2.VideoWriter_fourcc(*'DIVX'), fps, size)\n",
        " \n",
        "    for i in range(len(frame_array)):\n",
        "        # writing to a image array\n",
        "        out.write(frame_array[i])\n",
        "    out.release()\n",
        "def main():\n",
        "    pathIn= \"/content/\" + styles + \"/\"\n",
        "    pathOut = \"/content/drive/My Drive/Datasets/Cartoonized/\" + name + styles + \".mp4\"\n",
        "    convert_frames_to_video(pathIn, pathOut, fps)\n",
        " \n",
        "if __name__==\"__main__\":\n",
        "    main()\n",
        "clear_output()"
      ],
      "execution_count": null,
      "outputs": []
    },
    {
      "cell_type": "code",
      "metadata": {
        "id": "SoEyweyC5zpp",
        "colab_type": "code",
        "colab": {},
        "cellView": "form"
      },
      "source": [
        "#@title Clear Previous\n",
        "!rm -rf \"/content/shinkai\"\n",
        "!rm -rf \"/content/hayao\"\n",
        "!rm -rf \"/content/paprika\"\n",
        "!rm -rf \"/content/hosoda\"\n",
        "clear_output()"
      ],
      "execution_count": null,
      "outputs": []
    },
    {
      "cell_type": "code",
      "metadata": {
        "id": "wksYrXhNe1td",
        "colab_type": "code",
        "colab": {}
      },
      "source": [
        "!apt-get install tree\n",
        "clear_output()"
      ],
      "execution_count": null,
      "outputs": []
    },
    {
      "cell_type": "code",
      "metadata": {
        "id": "Bp8tegxJqegf",
        "colab_type": "code",
        "cellView": "form",
        "colab": {}
      },
      "source": [
        "include_original_image = \"yes\"  #@param [\"yes\", \"no\"]"
      ],
      "execution_count": null,
      "outputs": []
    },
    {
      "cell_type": "code",
      "metadata": {
        "id": "9Ag1yzD4eukk",
        "colab_type": "code",
        "colab": {}
      },
      "source": [
        "!tree {output_image_dir}"
      ],
      "execution_count": null,
      "outputs": []
    },
    {
      "cell_type": "code",
      "metadata": {
        "id": "uZPv25hzgphl",
        "colab_type": "code",
        "colab": {}
      },
      "source": [
        "if img_filename:\n",
        "    if \".gif\" in img_filename:\n",
        "        generated_gif = os.path.join(output_image_dir, \"comparison\", new_img_filename)\n",
        "        result_path = generated_gif + '.png'\n",
        "        !cp {generated_gif} {result_path}\n",
        "    else:\n",
        "        result_path = os.path.join(output_image_dir, \"comparison\", new_img_filename)"
      ],
      "execution_count": null,
      "outputs": []
    },
    {
      "cell_type": "code",
      "metadata": {
        "id": "4ZX1qmFdgpV6",
        "colab_type": "code",
        "colab": {}
      },
      "source": [
        "display(Image(result_path))"
      ],
      "execution_count": null,
      "outputs": []
    },
    {
      "cell_type": "code",
      "metadata": {
        "id": "kQvinoB4uimO",
        "colab_type": "code",
        "colab": {}
      },
      "source": [
        "#import cv2\n",
        "vidcap = cv2.VideoCapture('video.mp4')\n",
        "def getFrame(sec):\n",
        "    vidcap.set(cv2.CAP_PROP_POS_MSEC,sec*1000)\n",
        "    hasFrames,image = vidcap.read()\n",
        "    if hasFrames:\n",
        "        cv2.imwrite(\"image\"+str(count)+\".jpg\", image)     # save frame as JPG file\n",
        "    return hasFrames\n",
        "sec = 0\n",
        "frameRate = fps #//it will capture image in each 0.5 second\n",
        "count=1\n",
        "success = getFrame(sec)\n",
        "while success:\n",
        "    count = count + 1\n",
        "    sec = sec + frameRate\n",
        "    sec = round(sec, 2)\n",
        "    success = getFrame(sec)"
      ],
      "execution_count": null,
      "outputs": []
    },
    {
      "cell_type": "code",
      "metadata": {
        "id": "QG22Lmj7fCkT",
        "colab_type": "code",
        "cellView": "form",
        "colab": {}
      },
      "source": [
        "#@title Ignore\n",
        "#os.mkdir(\"/content/In/\")\n",
        "input_image_dir = \"/content/\"\n",
        "output_image_dir = \"/content/\"\n",
        "\n",
        "# import time\n",
        "# if image_url:\n",
        "#     img_filename = image_url.split(\"/\")[-1]\n",
        "#     name, ext = '.'.join(img_filename.split(\".\")[:-1]), img_filename.split(\".\")[-1]\n",
        "#     new_name = '_'.join((name, str(int(time.time()))))\n",
        "#     new_img_filename = '.'.join((new_name, ext))\n",
        "#     image_path = os.path.join(input_image_dir, new_img_filename)\n",
        "    \n",
        "#     !wget {image_url} \\\n",
        "#         && mv {img_filename} {new_img_filename} \\\n",
        "#         && mv {new_img_filename} {image_path}"
      ],
      "execution_count": null,
      "outputs": []
    },
    {
      "cell_type": "code",
      "metadata": {
        "id": "Kw3aRvL2lG3I",
        "colab_type": "code",
        "cellView": "form",
        "colab": {}
      },
      "source": [
        "#@title For GIF\n",
        "# a trick to show gif in notebook\n",
        "if \".gif\" in new_img_filename:\n",
        "    png_path = new_img_filename + '.png'\n",
        "    !cp {image_path} {png_path}"
      ],
      "execution_count": null,
      "outputs": []
    },
    {
      "cell_type": "code",
      "metadata": {
        "id": "ggLeaT5GkhHR",
        "colab_type": "code",
        "cellView": "form",
        "colab": {}
      },
      "source": [
        "#@title Display\n",
        "display(Image(png_path))"
      ],
      "execution_count": null,
      "outputs": []
    }
  ]
}